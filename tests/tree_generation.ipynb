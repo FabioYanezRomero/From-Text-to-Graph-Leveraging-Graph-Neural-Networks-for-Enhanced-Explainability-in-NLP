{
 "cells": [
  {
   "cell_type": "code",
   "execution_count": 3,
   "id": "4d744dbe",
   "metadata": {},
   "outputs": [],
   "source": [
    "import pickle as pkl\n",
    "import os\n",
    "import networkx as nx\n"
   ]
  },
  {
   "cell_type": "code",
   "execution_count": 2,
   "id": "4ce0756f",
   "metadata": {},
   "outputs": [
    {
     "name": "stdout",
     "output_type": "stream",
     "text": [
      "[([<networkx.classes.digraph.DiGraph object at 0x7d3f9fc1fe20>, <networkx.classes.digraph.DiGraph object at 0x7d3f9f18bfa0>, <networkx.classes.digraph.DiGraph object at 0x7d3f9f18b5e0>, <networkx.classes.digraph.DiGraph object at 0x7d3f9f18a650>, <networkx.classes.digraph.DiGraph object at 0x7d3f9f18a950>, <networkx.classes.digraph.DiGraph object at 0x7d3f9f18bdc0>, <networkx.classes.digraph.DiGraph object at 0x7d3f9f18b100>, <networkx.classes.digraph.DiGraph object at 0x7d3f9e7e86a0>, <networkx.classes.digraph.DiGraph object at 0x7d3fc1700d90>, <networkx.classes.digraph.DiGraph object at 0x7d3f9e219f90>, <networkx.classes.digraph.DiGraph object at 0x7d3f9e219ff0>, <networkx.classes.digraph.DiGraph object at 0x7d3f9e21a170>, <networkx.classes.digraph.DiGraph object at 0x7d3f9e21a1d0>, <networkx.classes.digraph.DiGraph object at 0x7d3f9e21a230>, <networkx.classes.digraph.DiGraph object at 0x7d3f9e21a290>, <networkx.classes.digraph.DiGraph object at 0x7d3f9e21a2f0>, <networkx.classes.digraph.DiGraph object at 0x7d3f9e21a350>, <networkx.classes.digraph.DiGraph object at 0x7d3f9e21a3b0>, <networkx.classes.digraph.DiGraph object at 0x7d3f9e21a410>, <networkx.classes.digraph.DiGraph object at 0x7d3f9e21a470>, <networkx.classes.digraph.DiGraph object at 0x7d3f9e21a4d0>, <networkx.classes.digraph.DiGraph object at 0x7d3f9e21a530>, <networkx.classes.digraph.DiGraph object at 0x7d3f9e21a590>, <networkx.classes.digraph.DiGraph object at 0x7d3f9e21a5f0>, <networkx.classes.digraph.DiGraph object at 0x7d3f9e21a650>, <networkx.classes.digraph.DiGraph object at 0x7d3f9e21a6b0>, <networkx.classes.digraph.DiGraph object at 0x7d3f9e21a710>, <networkx.classes.digraph.DiGraph object at 0x7d3f9e21a770>, <networkx.classes.digraph.DiGraph object at 0x7d3f9e21a7d0>, <networkx.classes.digraph.DiGraph object at 0x7d3f9e21a830>, <networkx.classes.digraph.DiGraph object at 0x7d3f9e21a890>, <networkx.classes.digraph.DiGraph object at 0x7d3f9e21a8f0>, <networkx.classes.digraph.DiGraph object at 0x7d3f9e21a950>, <networkx.classes.digraph.DiGraph object at 0x7d3f9e21a9b0>, <networkx.classes.digraph.DiGraph object at 0x7d3f9e21aa10>, <networkx.classes.digraph.DiGraph object at 0x7d3f9e21aa70>, <networkx.classes.digraph.DiGraph object at 0x7d3f9e21aad0>, <networkx.classes.digraph.DiGraph object at 0x7d3f9e21ab30>, <networkx.classes.digraph.DiGraph object at 0x7d3f9e21ab90>, <networkx.classes.digraph.DiGraph object at 0x7d3f9e21abf0>, <networkx.classes.digraph.DiGraph object at 0x7d3f9e21ac50>, <networkx.classes.digraph.DiGraph object at 0x7d3f9e21acb0>, <networkx.classes.digraph.DiGraph object at 0x7d3f9e21ad10>, <networkx.classes.digraph.DiGraph object at 0x7d3f9e21ad70>, <networkx.classes.digraph.DiGraph object at 0x7d3f9e21add0>, <networkx.classes.digraph.DiGraph object at 0x7d3f9e21ae30>, <networkx.classes.digraph.DiGraph object at 0x7d3f9e21ae90>, <networkx.classes.digraph.DiGraph object at 0x7d3f9e21aef0>, <networkx.classes.digraph.DiGraph object at 0x7d3f9e21af50>, <networkx.classes.digraph.DiGraph object at 0x7d3f9e21afb0>, <networkx.classes.digraph.DiGraph object at 0x7d3f9e21b010>, <networkx.classes.digraph.DiGraph object at 0x7d3f9e21b070>, <networkx.classes.digraph.DiGraph object at 0x7d3f9e21b0d0>, <networkx.classes.digraph.DiGraph object at 0x7d3f9e21b130>, <networkx.classes.digraph.DiGraph object at 0x7d3f9e21b190>, <networkx.classes.digraph.DiGraph object at 0x7d3f9e21b1f0>, <networkx.classes.digraph.DiGraph object at 0x7d3f9e21b250>, <networkx.classes.digraph.DiGraph object at 0x7d3f9e21b2b0>, <networkx.classes.digraph.DiGraph object at 0x7d3f9e21b310>, <networkx.classes.digraph.DiGraph object at 0x7d3f9e21b370>, <networkx.classes.digraph.DiGraph object at 0x7d3f9e21b3d0>, <networkx.classes.digraph.DiGraph object at 0x7d3f9e21b430>, <networkx.classes.digraph.DiGraph object at 0x7d3f9e21b490>, <networkx.classes.digraph.DiGraph object at 0x7d3f9e21b4f0>, <networkx.classes.digraph.DiGraph object at 0x7d3f9e21b550>, <networkx.classes.digraph.DiGraph object at 0x7d3f9e21b5b0>, <networkx.classes.digraph.DiGraph object at 0x7d3f9e21b610>, <networkx.classes.digraph.DiGraph object at 0x7d3f9e21b670>, <networkx.classes.digraph.DiGraph object at 0x7d3f9e21b6d0>, <networkx.classes.digraph.DiGraph object at 0x7d3f9e21b730>, <networkx.classes.digraph.DiGraph object at 0x7d3f9e21b790>, <networkx.classes.digraph.DiGraph object at 0x7d3f9e21b7f0>, <networkx.classes.digraph.DiGraph object at 0x7d3f9e21b850>, <networkx.classes.digraph.DiGraph object at 0x7d3f9e21b8b0>, <networkx.classes.digraph.DiGraph object at 0x7d3f9e21b910>, <networkx.classes.digraph.DiGraph object at 0x7d3f9e21b970>, <networkx.classes.digraph.DiGraph object at 0x7d3f9e21b9d0>, <networkx.classes.digraph.DiGraph object at 0x7d3f9e21ba30>, <networkx.classes.digraph.DiGraph object at 0x7d3f9e21ba90>, <networkx.classes.digraph.DiGraph object at 0x7d3f9e21baf0>, <networkx.classes.digraph.DiGraph object at 0x7d3f9e21bb50>, <networkx.classes.digraph.DiGraph object at 0x7d3f9e21bbb0>, <networkx.classes.digraph.DiGraph object at 0x7d3f9e21bc10>, <networkx.classes.digraph.DiGraph object at 0x7d3f9e21bc70>, <networkx.classes.digraph.DiGraph object at 0x7d3f9e21bcd0>, <networkx.classes.digraph.DiGraph object at 0x7d3f9e21bd30>, <networkx.classes.digraph.DiGraph object at 0x7d3f9e21bd90>, <networkx.classes.digraph.DiGraph object at 0x7d3f9e21bdf0>, <networkx.classes.digraph.DiGraph object at 0x7d3f9e21be50>, <networkx.classes.digraph.DiGraph object at 0x7d3f9e21beb0>, <networkx.classes.digraph.DiGraph object at 0x7d3f9e21bf10>, <networkx.classes.digraph.DiGraph object at 0x7d3f9e21bf70>, <networkx.classes.digraph.DiGraph object at 0x7d3f9e21bfd0>, <networkx.classes.digraph.DiGraph object at 0x7d3f9d6a4070>, <networkx.classes.digraph.DiGraph object at 0x7d3f9d6a40d0>, <networkx.classes.digraph.DiGraph object at 0x7d3f9d6a4130>, <networkx.classes.digraph.DiGraph object at 0x7d3f9d6a4190>, <networkx.classes.digraph.DiGraph object at 0x7d3f9d6a41f0>, <networkx.classes.digraph.DiGraph object at 0x7d3f9d6a4250>, <networkx.classes.digraph.DiGraph object at 0x7d3f9d6a42b0>, <networkx.classes.digraph.DiGraph object at 0x7d3f9d6a4310>, <networkx.classes.digraph.DiGraph object at 0x7d3f9d6a4370>, <networkx.classes.digraph.DiGraph object at 0x7d3f9d6a43d0>, <networkx.classes.digraph.DiGraph object at 0x7d3f9d6a4430>, <networkx.classes.digraph.DiGraph object at 0x7d3f9d6a4490>, <networkx.classes.digraph.DiGraph object at 0x7d3f9d6a44f0>, <networkx.classes.digraph.DiGraph object at 0x7d3f9d6a4550>, <networkx.classes.digraph.DiGraph object at 0x7d3f9d6a45b0>, <networkx.classes.digraph.DiGraph object at 0x7d3f9d6a4610>, <networkx.classes.digraph.DiGraph object at 0x7d3f9d6a4670>, <networkx.classes.digraph.DiGraph object at 0x7d3f9d6a46d0>, <networkx.classes.digraph.DiGraph object at 0x7d3f9d6a4730>, <networkx.classes.digraph.DiGraph object at 0x7d3f9d6a4790>, <networkx.classes.digraph.DiGraph object at 0x7d3f9d6a47f0>, <networkx.classes.digraph.DiGraph object at 0x7d3f9d6a4850>, <networkx.classes.digraph.DiGraph object at 0x7d3f9d6a48b0>, <networkx.classes.digraph.DiGraph object at 0x7d3f9d6a4910>, <networkx.classes.digraph.DiGraph object at 0x7d3f9d6a4970>, <networkx.classes.digraph.DiGraph object at 0x7d3f9d6a49d0>, <networkx.classes.digraph.DiGraph object at 0x7d3f9d6a4a30>, <networkx.classes.digraph.DiGraph object at 0x7d3f9d6a4a90>, <networkx.classes.digraph.DiGraph object at 0x7d3f9d6a4af0>, <networkx.classes.digraph.DiGraph object at 0x7d3f9d6a4b50>, <networkx.classes.digraph.DiGraph object at 0x7d3f9d6a4bb0>, <networkx.classes.digraph.DiGraph object at 0x7d3f9d6a4c10>, <networkx.classes.digraph.DiGraph object at 0x7d3f9d6a4c70>, <networkx.classes.digraph.DiGraph object at 0x7d3f9d6a4cd0>, <networkx.classes.digraph.DiGraph object at 0x7d3f9d6a4d30>, <networkx.classes.digraph.DiGraph object at 0x7d3f9d6a4d90>, <networkx.classes.digraph.DiGraph object at 0x7d3f9d6a4df0>, <networkx.classes.digraph.DiGraph object at 0x7d3f9d6a4e50>, <networkx.classes.digraph.DiGraph object at 0x7d3f9d6a4eb0>, <networkx.classes.digraph.DiGraph object at 0x7d3f9d6a4f10>, <networkx.classes.digraph.DiGraph object at 0x7d3f9d6a4f70>, <networkx.classes.digraph.DiGraph object at 0x7d3f9d6a4fd0>, <networkx.classes.digraph.DiGraph object at 0x7d3f9d6a5030>, <networkx.classes.digraph.DiGraph object at 0x7d3f9d6a5090>, <networkx.classes.digraph.DiGraph object at 0x7d3f9d6a50f0>, <networkx.classes.digraph.DiGraph object at 0x7d3f9d6a5150>, <networkx.classes.digraph.DiGraph object at 0x7d3f9d6a51b0>, <networkx.classes.digraph.DiGraph object at 0x7d3f9d6a5210>, <networkx.classes.digraph.DiGraph object at 0x7d3f9d6a5270>, <networkx.classes.digraph.DiGraph object at 0x7d3f9d6a52d0>, <networkx.classes.digraph.DiGraph object at 0x7d3f9d6a5330>, <networkx.classes.digraph.DiGraph object at 0x7d3f9d6a5390>, <networkx.classes.digraph.DiGraph object at 0x7d3f9d6a53f0>, <networkx.classes.digraph.DiGraph object at 0x7d3f9d6a5450>, <networkx.classes.digraph.DiGraph object at 0x7d3f9d6a54b0>, <networkx.classes.digraph.DiGraph object at 0x7d3f9d6a5510>, <networkx.classes.digraph.DiGraph object at 0x7d3f9d6a5570>, <networkx.classes.digraph.DiGraph object at 0x7d3f9d6a55d0>, <networkx.classes.digraph.DiGraph object at 0x7d3f9d6a5630>, <networkx.classes.digraph.DiGraph object at 0x7d3f9d6a5690>, <networkx.classes.digraph.DiGraph object at 0x7d3f9d6a56f0>, <networkx.classes.digraph.DiGraph object at 0x7d3f9d6a5750>, <networkx.classes.digraph.DiGraph object at 0x7d3f9d6a57b0>, <networkx.classes.digraph.DiGraph object at 0x7d3f9d6a5810>, <networkx.classes.digraph.DiGraph object at 0x7d3f9d6a5870>, <networkx.classes.digraph.DiGraph object at 0x7d3f9d6a58d0>, <networkx.classes.digraph.DiGraph object at 0x7d3f9d6a5930>, <networkx.classes.digraph.DiGraph object at 0x7d3f9d6a5990>, <networkx.classes.digraph.DiGraph object at 0x7d3f9d6a59f0>, <networkx.classes.digraph.DiGraph object at 0x7d3f9d6a5a50>, <networkx.classes.digraph.DiGraph object at 0x7d3f9d6a5ab0>, <networkx.classes.digraph.DiGraph object at 0x7d3f9d6a5b10>, <networkx.classes.digraph.DiGraph object at 0x7d3f9d6a5b70>, <networkx.classes.digraph.DiGraph object at 0x7d3f9d6a5bd0>, <networkx.classes.digraph.DiGraph object at 0x7d3f9e219f60>, <networkx.classes.digraph.DiGraph object at 0x7d3f9e2199f0>, <networkx.classes.digraph.DiGraph object at 0x7d3f9e219750>, <networkx.classes.digraph.DiGraph object at 0x7d3f9e778e80>, <networkx.classes.digraph.DiGraph object at 0x7d3f9e87afe0>, <networkx.classes.digraph.DiGraph object at 0x7d3f9f18bdf0>, <networkx.classes.digraph.DiGraph object at 0x7d3f9f18a170>, <networkx.classes.digraph.DiGraph object at 0x7d3f9f189b10>, <networkx.classes.digraph.DiGraph object at 0x7d3f9f1b63b0>, <networkx.classes.digraph.DiGraph object at 0x7d3f9f337790>, <networkx.classes.digraph.DiGraph object at 0x7d3f9f2be800>, <networkx.classes.digraph.DiGraph object at 0x7d3f9fc4cf70>, <networkx.classes.digraph.DiGraph object at 0x7d3f9fc4f280>, <networkx.classes.digraph.DiGraph object at 0x7d3f9fc1fd30>, <networkx.classes.digraph.DiGraph object at 0x7d3f9fc1dd20>, <networkx.classes.digraph.DiGraph object at 0x7d3f9d6a5c00>, <networkx.classes.digraph.DiGraph object at 0x7d3f9d6a5c60>, <networkx.classes.digraph.DiGraph object at 0x7d3f9d6a5cc0>, <networkx.classes.digraph.DiGraph object at 0x7d3f9d6a5d20>, <networkx.classes.digraph.DiGraph object at 0x7d3f9d6a5d80>, <networkx.classes.digraph.DiGraph object at 0x7d3f9d6a5de0>, <networkx.classes.digraph.DiGraph object at 0x7d3f9d6a5e40>, <networkx.classes.digraph.DiGraph object at 0x7d3f9d6a5ea0>, <networkx.classes.digraph.DiGraph object at 0x7d3f9d6a5f00>, <networkx.classes.digraph.DiGraph object at 0x7d3f9d6a5f60>, <networkx.classes.digraph.DiGraph object at 0x7d3f9d6a5fc0>, <networkx.classes.digraph.DiGraph object at 0x7d3f9d6a6020>, <networkx.classes.digraph.DiGraph object at 0x7d3f9d6a6080>, <networkx.classes.digraph.DiGraph object at 0x7d3f9d6a60e0>, <networkx.classes.digraph.DiGraph object at 0x7d3f9d6a6140>, <networkx.classes.digraph.DiGraph object at 0x7d3f9d6a61a0>, <networkx.classes.digraph.DiGraph object at 0x7d3f9d6a6200>, <networkx.classes.digraph.DiGraph object at 0x7d3f9d6a6260>, <networkx.classes.digraph.DiGraph object at 0x7d3f9d6a62c0>, <networkx.classes.digraph.DiGraph object at 0x7d3f9d6a6320>, <networkx.classes.digraph.DiGraph object at 0x7d3f9d6a6380>, <networkx.classes.digraph.DiGraph object at 0x7d3f9d6a63e0>, <networkx.classes.digraph.DiGraph object at 0x7d3f9d6a6440>, <networkx.classes.digraph.DiGraph object at 0x7d3f9d6a64a0>, <networkx.classes.digraph.DiGraph object at 0x7d3f9d6a6500>, <networkx.classes.digraph.DiGraph object at 0x7d3f9d6a6560>, <networkx.classes.digraph.DiGraph object at 0x7d3f9d6a65c0>, <networkx.classes.digraph.DiGraph object at 0x7d3f9d6a6620>, <networkx.classes.digraph.DiGraph object at 0x7d3f9d6a6680>, <networkx.classes.digraph.DiGraph object at 0x7d3f9d6a66e0>, <networkx.classes.digraph.DiGraph object at 0x7d3f9d6a6740>, <networkx.classes.digraph.DiGraph object at 0x7d3f9d6a67a0>, <networkx.classes.digraph.DiGraph object at 0x7d3f9d6a6800>, <networkx.classes.digraph.DiGraph object at 0x7d3f9d6a6860>, <networkx.classes.digraph.DiGraph object at 0x7d3f9d6a68c0>, <networkx.classes.digraph.DiGraph object at 0x7d3f9d6a6920>, <networkx.classes.digraph.DiGraph object at 0x7d3f9d6a6980>, <networkx.classes.digraph.DiGraph object at 0x7d3f9d6a69e0>, <networkx.classes.digraph.DiGraph object at 0x7d3f9d6a6a40>, <networkx.classes.digraph.DiGraph object at 0x7d3f9d6a6aa0>, <networkx.classes.digraph.DiGraph object at 0x7d3f9d6a6b00>, <networkx.classes.digraph.DiGraph object at 0x7d3f9d6a6b60>, <networkx.classes.digraph.DiGraph object at 0x7d3f9d6a6bc0>, <networkx.classes.digraph.DiGraph object at 0x7d3f9d6a6c20>, <networkx.classes.digraph.DiGraph object at 0x7d3f9d6a6c80>, <networkx.classes.digraph.DiGraph object at 0x7d3f9d6a6ce0>, <networkx.classes.digraph.DiGraph object at 0x7d3f9d6a6d40>, <networkx.classes.digraph.DiGraph object at 0x7d3f9d6a6da0>, <networkx.classes.digraph.DiGraph object at 0x7d3f9d6a6e00>, <networkx.classes.digraph.DiGraph object at 0x7d3f9d6a6e60>, <networkx.classes.digraph.DiGraph object at 0x7d3f9d6a6ec0>, <networkx.classes.digraph.DiGraph object at 0x7d3f9d6a6f20>, <networkx.classes.digraph.DiGraph object at 0x7d3f9d6a6f80>, <networkx.classes.digraph.DiGraph object at 0x7d3f9d6a6fe0>, <networkx.classes.digraph.DiGraph object at 0x7d3f9d6a7040>, <networkx.classes.digraph.DiGraph object at 0x7d3f9d6a70a0>, <networkx.classes.digraph.DiGraph object at 0x7d3f9d6a7100>, <networkx.classes.digraph.DiGraph object at 0x7d3f9d6a7160>, <networkx.classes.digraph.DiGraph object at 0x7d3f9d6a71c0>, <networkx.classes.digraph.DiGraph object at 0x7d3f9d6a7220>, <networkx.classes.digraph.DiGraph object at 0x7d3f9d6a7280>, <networkx.classes.digraph.DiGraph object at 0x7d3f9d6a72e0>, <networkx.classes.digraph.DiGraph object at 0x7d3f9d6a7340>, <networkx.classes.digraph.DiGraph object at 0x7d3f9d6a73a0>, <networkx.classes.digraph.DiGraph object at 0x7d3f9d6a7400>, <networkx.classes.digraph.DiGraph object at 0x7d3f9d6a7460>, <networkx.classes.digraph.DiGraph object at 0x7d3f9d6a74c0>, <networkx.classes.digraph.DiGraph object at 0x7d3f9d6a7520>, <networkx.classes.digraph.DiGraph object at 0x7d3f9d6a7580>, <networkx.classes.digraph.DiGraph object at 0x7d3f9d6a75e0>, <networkx.classes.digraph.DiGraph object at 0x7d3f9d6a7640>, <networkx.classes.digraph.DiGraph object at 0x7d3f9d6a76a0>, <networkx.classes.digraph.DiGraph object at 0x7d3f9d6a7700>, <networkx.classes.digraph.DiGraph object at 0x7d3f9d6a7760>], tensor([2, 3, 3, 3, 3, 3, 3, 3, 3, 3, 3, 3, 3, 3, 3, 3, 3, 3, 3, 3, 3, 3, 3, 3,\n",
      "        3, 3, 1, 1, 1, 1, 1, 1, 0, 0, 0, 0, 0, 0, 0, 0, 1, 2, 0, 3, 1, 1, 0, 3,\n",
      "        0, 1, 0, 1, 0, 3, 2, 3, 0, 0, 2, 2, 1, 1, 1, 3, 0, 3, 0, 0, 1, 0, 3, 3,\n",
      "        3, 0, 3, 1, 0, 1, 0, 0, 0, 1, 2, 2, 0, 0, 2, 0, 0, 3, 0, 2, 3, 2, 1, 1,\n",
      "        1, 2, 0, 2, 1, 2, 3, 2, 0, 1, 0, 1, 0, 3, 2, 3, 3, 3, 3, 1, 3, 3, 2, 1,\n",
      "        0, 1, 3, 0, 3, 2, 1, 1, 1, 0, 0, 0, 1, 0, 1, 1, 0, 1, 1, 0, 1, 0, 1, 0,\n",
      "        0, 0, 1, 2, 1, 1, 1, 0, 1, 0, 0, 0, 2, 1, 1, 0, 1, 2, 3, 0, 0, 2, 2, 2,\n",
      "        1, 0, 3, 3, 2, 3, 0, 0, 3, 1, 3, 1, 2, 1, 1, 3, 2, 0, 3, 0, 1, 3, 3, 0,\n",
      "        0, 0, 2, 2, 0, 1, 2, 1, 3, 3, 3, 0, 1, 1, 1, 3, 1, 3, 1, 0, 1, 1, 1, 3,\n",
      "        2, 2, 3, 1, 1, 0, 2, 1, 2, 2, 0, 1, 2, 0, 1, 1, 2, 3, 2, 1, 2, 1, 0, 2,\n",
      "        3, 1, 1, 3, 2, 2, 3, 3, 3, 0, 2, 0, 1, 2, 2, 3]))]\n"
     ]
    }
   ],
   "source": [
    "with open(\"/app/src/Clean_Code/output/text_graphs/SetFit/ag_news/test/constituency/0.pkl\", \"rb\") as f:\n",
    "    data = pkl.load(f)\n",
    "print(data)"
   ]
  },
  {
   "cell_type": "code",
   "execution_count": 16,
   "id": "6c7b5644",
   "metadata": {},
   "outputs": [
    {
     "data": {
      "text/plain": [
       "256"
      ]
     },
     "execution_count": 16,
     "metadata": {},
     "output_type": "execute_result"
    }
   ],
   "source": [
    "len(data[0][1])"
   ]
  },
  {
   "cell_type": "code",
   "execution_count": 12,
   "id": "a67ccba5",
   "metadata": {},
   "outputs": [
    {
     "data": {
      "text/plain": [
       "NodeDataView({'ROOT': {'label': 'ROOT'}, 'S0': {'label': '«SENTENCE»'}, 'NP00': {'label': '«NOUN PHRASE»'}, 'NP000': {'label': '«NOUN PHRASE»'}, 'NNS0000': {'label': 'NNS'}, 0: {'label': 'Fears'}, 'PP001': {'label': '«PREPOSITIONAL PHRASE»'}, 'IN0010': {'label': 'IN'}, 6: {'label': 'for'}, 'NP0011': {'label': '«NOUN PHRASE»'}, 'NML00110': {'label': 'NML'}, 'NNP001100': {'label': 'NNP'}, 10: {'label': 'T'}, 'NNP001101': {'label': 'NNP'}, 12: {'label': 'N'}, 'NN00111': {'label': 'NN'}, 14: {'label': 'pension'}, 'PP01': {'label': '«PREPOSITIONAL PHRASE»'}, 'IN010': {'label': 'IN'}, 22: {'label': 'after'}, 'NP011': {'label': '«NOUN PHRASE»'}, 'NP0110': {'label': '«NOUN PHRASE»'}, 'NNS01100': {'label': 'NNS'}, 28: {'label': 'talks'}, 'NNS01101': {'label': 'NNS'}, 34: {'label': 'Unions'}, 'VP0111': {'label': '«VERB PHRASE»'}, 'VBG01110': {'label': 'VBG'}, 41: {'label': 'representing'}, 'NP01111': {'label': '«NOUN PHRASE»'}, 'NP011110': {'label': '«NOUN PHRASE»'}, 'NNS0111100': {'label': 'NNS'}, 54: {'label': 'workers'}, 'PP011111': {'label': '«PREPOSITIONAL PHRASE»'}, 'IN0111110': {'label': 'IN'}, 62: {'label': 'at'}, 'NP0111111': {'label': '«NOUN PHRASE»'}, 'NNP01111110': {'label': 'NNP'}, 65: {'label': 'Turner'}, 'NNP01111111': {'label': 'NNP'}, 74: {'label': 'Newall'}, 'VP02': {'label': '«VERB PHRASE»'}, 'VBP020': {'label': 'VBP'}, 81: {'label': 'say'}, 'SBAR021': {'label': '«SUBORDINATE CLAUSE»'}, 'S0210': {'label': '«SENTENCE»'}, 'NP02100': {'label': '«NOUN PHRASE»'}, 'PRP021000': {'label': 'PRP'}, 85: {'label': 'they'}, 'VP02101': {'label': '«VERB PHRASE»'}, 'VBP021010': {'label': 'VBP'}, 90: {'label': 'are'}, 'VP021011': {'label': '«VERB PHRASE»'}, '``0210110': {'label': '``'}, 94: {'label': \"'\"}, 'ADJP0210111': {'label': '«ADJECTIVE PHRASE»'}, 'JJ02101110': {'label': 'JJ'}, 95: {'label': 'disappointed'}, \"''02101111\": {'label': \"''\"}, 'PP0210112': {'label': '«PREPOSITIONAL PHRASE»'}, 'IN02101120': {'label': 'IN'}, 'NP02101121': {'label': '«NOUN PHRASE»'}, 'NP021011210': {'label': '«NOUN PHRASE»'}, 'NNS0210112100': {'label': 'NNS'}, 'PP021011211': {'label': '«PREPOSITIONAL PHRASE»'}, 'IN0210112110': {'label': 'IN'}, 121: {'label': 'with'}, 'NP0210112111': {'label': '«NOUN PHRASE»'}, 'NML02101121110': {'label': 'NML'}, 'JJ021011211100': {'label': 'JJ'}, 126: {'label': 'stricken'}, 'NN021011211101': {'label': 'NN'}, 135: {'label': 'parent'}, 'NN021011211102': {'label': 'NN'}, 142: {'label': 'firm'}, 'NNP02101121111': {'label': 'NNP'}, 147: {'label': 'Federal'}, 'NNP02101121112': {'label': 'NNP'}, 155: {'label': 'Mogul'}, '.03': {'label': '.'}, 160: {'label': '.'}})"
      ]
     },
     "execution_count": 12,
     "metadata": {},
     "output_type": "execute_result"
    }
   ],
   "source": [
    "data[0][0][0].nodes(data=True)"
   ]
  }
 ],
 "metadata": {
  "kernelspec": {
   "display_name": "Python 3",
   "language": "python",
   "name": "python3"
  },
  "language_info": {
   "codemirror_mode": {
    "name": "ipython",
    "version": 3
   },
   "file_extension": ".py",
   "mimetype": "text/x-python",
   "name": "python",
   "nbconvert_exporter": "python",
   "pygments_lexer": "ipython3",
   "version": "3.10.12"
  }
 },
 "nbformat": 4,
 "nbformat_minor": 5
}
