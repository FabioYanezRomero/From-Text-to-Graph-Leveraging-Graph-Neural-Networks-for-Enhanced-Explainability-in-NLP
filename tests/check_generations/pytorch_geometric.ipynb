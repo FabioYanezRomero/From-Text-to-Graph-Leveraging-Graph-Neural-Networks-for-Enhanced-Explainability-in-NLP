{
 "cells": [
  {
   "cell_type": "code",
   "execution_count": 1,
   "id": "2afca0f4",
   "metadata": {},
   "outputs": [],
   "source": [
    "import pickle as pkl\n",
    "import networkx as nx\n",
    "import torch\n",
    "from torch_geometric.data import Data\n",
    "from torch_geometric.loader import DataLoader\n",
    "\n"
   ]
  },
  {
   "cell_type": "code",
   "execution_count": 3,
   "id": "eebab525",
   "metadata": {},
   "outputs": [
    {
     "name": "stdout",
     "output_type": "stream",
     "text": [
      "[Data(x=[18, 768], edge_index=[2, 17], node_labels=[18], y=[1]), Data(x=[17, 768], edge_index=[2, 16], node_labels=[17], y=[1]), Data(x=[36, 768], edge_index=[2, 34], node_labels=[36], y=[1]), Data(x=[22, 768], edge_index=[2, 20], node_labels=[22], y=[1]), Data(x=[44, 768], edge_index=[2, 41], node_labels=[44], y=[1]), Data(x=[26, 768], edge_index=[2, 25], node_labels=[26], y=[1]), Data(x=[65, 768], edge_index=[2, 64], node_labels=[65], y=[1]), Data(x=[6, 768], edge_index=[2, 5], node_labels=[6], y=[1]), Data(x=[24, 768], edge_index=[2, 23], node_labels=[24], y=[1]), Data(x=[37, 768], edge_index=[2, 36], node_labels=[37], y=[1]), Data(x=[11, 768], edge_index=[2, 10], node_labels=[11], y=[1]), Data(x=[50, 768], edge_index=[2, 51], node_labels=[50], y=[1]), Data(x=[20, 768], edge_index=[2, 17], node_labels=[20], y=[1]), Data(x=[17, 768], edge_index=[2, 14], node_labels=[17], y=[1]), Data(x=[18, 768], edge_index=[2, 17], node_labels=[18], y=[1]), Data(x=[7, 768], edge_index=[2, 6], node_labels=[7], y=[1]), Data(x=[5, 768], edge_index=[2, 4], node_labels=[5], y=[1]), Data(x=[14, 768], edge_index=[2, 13], node_labels=[14], y=[1]), Data(x=[5, 768], edge_index=[2, 4], node_labels=[5], y=[1]), Data(x=[72, 768], edge_index=[2, 71], node_labels=[72], y=[1]), Data(x=[28, 768], edge_index=[2, 27], node_labels=[28], y=[1]), Data(x=[63, 768], edge_index=[2, 61], node_labels=[63], y=[1]), Data(x=[14, 768], edge_index=[2, 13], node_labels=[14], y=[1]), Data(x=[16, 768], edge_index=[2, 15], node_labels=[16], y=[1]), Data(x=[13, 768], edge_index=[2, 12], node_labels=[13], y=[1]), Data(x=[25, 768], edge_index=[2, 24], node_labels=[25], y=[1]), Data(x=[63, 768], edge_index=[2, 63], node_labels=[63], y=[1]), Data(x=[8, 768], edge_index=[2, 7], node_labels=[8], y=[1]), Data(x=[10, 768], edge_index=[2, 9], node_labels=[10], y=[1]), Data(x=[34, 768], edge_index=[2, 31], node_labels=[34], y=[1]), Data(x=[11, 768], edge_index=[2, 9], node_labels=[11], y=[1]), Data(x=[8, 768], edge_index=[2, 7], node_labels=[8], y=[1]), Data(x=[47, 768], edge_index=[2, 45], node_labels=[47], y=[1]), Data(x=[23, 768], edge_index=[2, 22], node_labels=[23], y=[1]), Data(x=[7, 768], edge_index=[2, 5], node_labels=[7], y=[1]), Data(x=[43, 768], edge_index=[2, 42], node_labels=[43], y=[1]), Data(x=[93, 768], edge_index=[2, 96], node_labels=[93], y=[1]), Data(x=[3, 768], edge_index=[2, 2], node_labels=[3], y=[1]), Data(x=[20, 768], edge_index=[2, 19], node_labels=[20], y=[1]), Data(x=[3, 768], edge_index=[2, 2], node_labels=[3], y=[1]), Data(x=[66, 768], edge_index=[2, 64], node_labels=[66], y=[1]), Data(x=[5, 768], edge_index=[2, 4], node_labels=[5], y=[1]), Data(x=[46, 768], edge_index=[2, 47], node_labels=[46], y=[1]), Data(x=[36, 768], edge_index=[2, 34], node_labels=[36], y=[1]), Data(x=[21, 768], edge_index=[2, 20], node_labels=[21], y=[1]), Data(x=[11, 768], edge_index=[2, 10], node_labels=[11], y=[1]), Data(x=[23, 768], edge_index=[2, 21], node_labels=[23], y=[1]), Data(x=[14, 768], edge_index=[2, 13], node_labels=[14], y=[1]), Data(x=[53, 768], edge_index=[2, 53], node_labels=[53], y=[1]), Data(x=[3, 768], edge_index=[2, 2], node_labels=[3], y=[1]), Data(x=[5, 768], edge_index=[2, 4], node_labels=[5], y=[1]), Data(x=[48, 768], edge_index=[2, 45], node_labels=[48], y=[1]), Data(x=[5, 768], edge_index=[2, 4], node_labels=[5], y=[1]), Data(x=[5, 768], edge_index=[2, 4], node_labels=[5], y=[1]), Data(x=[13, 768], edge_index=[2, 12], node_labels=[13], y=[1]), Data(x=[5, 768], edge_index=[2, 4], node_labels=[5], y=[1]), Data(x=[50, 768], edge_index=[2, 48], node_labels=[50], y=[1]), Data(x=[29, 768], edge_index=[2, 28], node_labels=[29], y=[1]), Data(x=[11, 768], edge_index=[2, 10], node_labels=[11], y=[1]), Data(x=[10, 768], edge_index=[2, 9], node_labels=[10], y=[1]), Data(x=[22, 768], edge_index=[2, 21], node_labels=[22], y=[1]), Data(x=[7, 768], edge_index=[2, 6], node_labels=[7], y=[1]), Data(x=[13, 768], edge_index=[2, 12], node_labels=[13], y=[1]), Data(x=[99, 768], edge_index=[2, 97], node_labels=[99], y=[1]), Data(x=[37, 768], edge_index=[2, 34], node_labels=[37], y=[1]), Data(x=[11, 768], edge_index=[2, 9], node_labels=[11], y=[1]), Data(x=[20, 768], edge_index=[2, 17], node_labels=[20], y=[1]), Data(x=[16, 768], edge_index=[2, 15], node_labels=[16], y=[1]), Data(x=[43, 768], edge_index=[2, 41], node_labels=[43], y=[1]), Data(x=[52, 768], edge_index=[2, 48], node_labels=[52], y=[1]), Data(x=[20, 768], edge_index=[2, 18], node_labels=[20], y=[1]), Data(x=[69, 768], edge_index=[2, 67], node_labels=[69], y=[1]), Data(x=[6, 768], edge_index=[2, 5], node_labels=[6], y=[1]), Data(x=[15, 768], edge_index=[2, 14], node_labels=[15], y=[1]), Data(x=[23, 768], edge_index=[2, 19], node_labels=[23], y=[1]), Data(x=[14, 768], edge_index=[2, 13], node_labels=[14], y=[1]), Data(x=[5, 768], edge_index=[2, 4], node_labels=[5], y=[1]), Data(x=[9, 768], edge_index=[2, 7], node_labels=[9], y=[1]), Data(x=[22, 768], edge_index=[2, 21], node_labels=[22], y=[1]), Data(x=[37, 768], edge_index=[2, 38], node_labels=[37], y=[1]), Data(x=[10, 768], edge_index=[2, 9], node_labels=[10], y=[1]), Data(x=[3, 768], edge_index=[2, 2], node_labels=[3], y=[1]), Data(x=[30, 768], edge_index=[2, 26], node_labels=[30], y=[1]), Data(x=[22, 768], edge_index=[2, 21], node_labels=[22], y=[1]), Data(x=[10, 768], edge_index=[2, 9], node_labels=[10], y=[1]), Data(x=[94, 768], edge_index=[2, 91], node_labels=[94], y=[1]), Data(x=[17, 768], edge_index=[2, 16], node_labels=[17], y=[1]), Data(x=[60, 768], edge_index=[2, 58], node_labels=[60], y=[1]), Data(x=[13, 768], edge_index=[2, 12], node_labels=[13], y=[1]), Data(x=[7, 768], edge_index=[2, 6], node_labels=[7], y=[1]), Data(x=[65, 768], edge_index=[2, 64], node_labels=[65], y=[1]), Data(x=[71, 768], edge_index=[2, 67], node_labels=[71], y=[1]), Data(x=[11, 768], edge_index=[2, 10], node_labels=[11], y=[1]), Data(x=[11, 768], edge_index=[2, 10], node_labels=[11], y=[1]), Data(x=[81, 768], edge_index=[2, 82], node_labels=[81], y=[1]), Data(x=[5, 768], edge_index=[2, 4], node_labels=[5], y=[1]), Data(x=[18, 768], edge_index=[2, 17], node_labels=[18], y=[1]), Data(x=[12, 768], edge_index=[2, 9], node_labels=[12], y=[1]), Data(x=[10, 768], edge_index=[2, 9], node_labels=[10], y=[1]), Data(x=[48, 768], edge_index=[2, 46], node_labels=[48], y=[1]), Data(x=[6, 768], edge_index=[2, 5], node_labels=[6], y=[1]), Data(x=[7, 768], edge_index=[2, 6], node_labels=[7], y=[1]), Data(x=[11, 768], edge_index=[2, 10], node_labels=[11], y=[1]), Data(x=[41, 768], edge_index=[2, 42], node_labels=[41], y=[1]), Data(x=[35, 768], edge_index=[2, 33], node_labels=[35], y=[1]), Data(x=[25, 768], edge_index=[2, 21], node_labels=[25], y=[1]), Data(x=[134, 768], edge_index=[2, 135], node_labels=[134], y=[1]), Data(x=[14, 768], edge_index=[2, 13], node_labels=[14], y=[1]), Data(x=[61, 768], edge_index=[2, 58], node_labels=[61], y=[1]), Data(x=[41, 768], edge_index=[2, 41], node_labels=[41], y=[1]), Data(x=[33, 768], edge_index=[2, 31], node_labels=[33], y=[1]), Data(x=[5, 768], edge_index=[2, 4], node_labels=[5], y=[1]), Data(x=[71, 768], edge_index=[2, 72], node_labels=[71], y=[1]), Data(x=[10, 768], edge_index=[2, 9], node_labels=[10], y=[1]), Data(x=[28, 768], edge_index=[2, 27], node_labels=[28], y=[1]), Data(x=[6, 768], edge_index=[2, 5], node_labels=[6], y=[1]), Data(x=[82, 768], edge_index=[2, 79], node_labels=[82], y=[1]), Data(x=[3, 768], edge_index=[2, 2], node_labels=[3], y=[1]), Data(x=[12, 768], edge_index=[2, 11], node_labels=[12], y=[1]), Data(x=[48, 768], edge_index=[2, 47], node_labels=[48], y=[1]), Data(x=[23, 768], edge_index=[2, 21], node_labels=[23], y=[1]), Data(x=[20, 768], edge_index=[2, 19], node_labels=[20], y=[1]), Data(x=[25, 768], edge_index=[2, 24], node_labels=[25], y=[1]), Data(x=[49, 768], edge_index=[2, 47], node_labels=[49], y=[1]), Data(x=[7, 768], edge_index=[2, 5], node_labels=[7], y=[1]), Data(x=[45, 768], edge_index=[2, 42], node_labels=[45], y=[1]), Data(x=[32, 768], edge_index=[2, 30], node_labels=[32], y=[1]), Data(x=[26, 768], edge_index=[2, 25], node_labels=[26], y=[1])]\n"
     ]
    }
   ],
   "source": [
    "with open(\"/app/src/Clean_Code/output/pytorch_geometric/stanfordnlp_sst2/train/file_000_batch_000.pt\", \"rb\") as f:\n",
    "    data = torch.load(f, weights_only=False)\n",
    "    print(data)"
   ]
  },
  {
   "cell_type": "code",
   "execution_count": 16,
   "id": "f814543b",
   "metadata": {},
   "outputs": [
    {
     "data": {
      "text/plain": [
       "['«NOUN PHRASE»',\n",
       " '«NOUN PHRASE»',\n",
       " '«DETERMINER»',\n",
       " 'a',\n",
       " '«ADJECTIVE»',\n",
       " 'depressed',\n",
       " '«ADJECTIVE PHRASE»',\n",
       " '«NOUN PHRASE»',\n",
       " '«CARDINAL NUMBER»',\n",
       " 'fifteen',\n",
       " 'HYPH',\n",
       " '-',\n",
       " '«NOUN, SINGULAR OR MASS»',\n",
       " 'year',\n",
       " 'HYPH',\n",
       " '-',\n",
       " '«ADJECTIVE»',\n",
       " 'old',\n",
       " '«POSSESSIVE ENDING»',\n",
       " \"'s\",\n",
       " '«ADJECTIVE»',\n",
       " 'suicidal',\n",
       " '«NOUN, SINGULAR OR MASS»',\n",
       " 'poetry']"
      ]
     },
     "execution_count": 16,
     "metadata": {},
     "output_type": "execute_result"
    }
   ],
   "source": [
    "data[8].node_labels"
   ]
  }
 ],
 "metadata": {
  "kernelspec": {
   "display_name": "Python 3",
   "language": "python",
   "name": "python3"
  },
  "language_info": {
   "codemirror_mode": {
    "name": "ipython",
    "version": 3
   },
   "file_extension": ".py",
   "mimetype": "text/x-python",
   "name": "python",
   "nbconvert_exporter": "python",
   "pygments_lexer": "ipython3",
   "version": "3.10.12"
  }
 },
 "nbformat": 4,
 "nbformat_minor": 5
}
