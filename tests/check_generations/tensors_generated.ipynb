{
 "cells": [
  {
   "cell_type": "code",
   "execution_count": 1,
   "id": "c48d17c5",
   "metadata": {},
   "outputs": [],
   "source": [
    "import networkx as nx\n",
    "import torch\n",
    "import torch_geometric\n",
    "import pickle as pkl"
   ]
  },
  {
   "cell_type": "code",
   "execution_count": 3,
   "id": "22b2a09a",
   "metadata": {},
   "outputs": [],
   "source": [
    "with open(\"/app/src/Clean_Code/output/embeddings/setfit/ag_news/train/setfit_ag_news/special_embeddings.pkl\", \"rb\") as f:\n",
    "    special_embeddings = pkl.load(f)"
   ]
  },
  {
   "cell_type": "code",
   "execution_count": 7,
   "id": "8a96abc3",
   "metadata": {},
   "outputs": [
    {
     "data": {
      "text/plain": [
       "dict_keys(['«SENTENCE»', '«REDUCED RELATIVE CLAUSE»', '«NOUN PHRASE»', '«VERB PHRASE»', '«PREPOSITIONAL PHRASE»', '«ADVERB PHRASE»', '«UNLIKE COORDINATED PHRASE»', '«ADJECTIVE PHRASE»', '«SUBORDINATE CLAUSE»', '«WH-ADVERB PHRASE»', '«WHADVP»', '«NX»', '«QUANTIFIER PHRASE»', '«NOUN PHRASE (NO HEAD)»', '«PARTICLE»', '«PARENTETICAL»', '«WH-NOUN PHRASE»', '«WH-ADJECTIVE PHRASE»', '«NOT A CONSTITUENT»', '«FRAGMENT»', '«INVERTED SENTENCE»', '«INTERJECTION»', '«WH-PREPOSITIONAL PHRASE»', '«QUESTION»', '«SUBORDINATE CLAUSE QUESTION»', '«CONJUCTION PHRASE»', '«UNKNOWN»', '«LIST MARKER»', 'constituency relation'])"
      ]
     },
     "execution_count": 7,
     "metadata": {},
     "output_type": "execute_result"
    }
   ],
   "source": [
    "special_embeddings.keys()"
   ]
  }
 ],
 "metadata": {
  "kernelspec": {
   "display_name": "Python 3",
   "language": "python",
   "name": "python3"
  },
  "language_info": {
   "codemirror_mode": {
    "name": "ipython",
    "version": 3
   },
   "file_extension": ".py",
   "mimetype": "text/x-python",
   "name": "python",
   "nbconvert_exporter": "python",
   "pygments_lexer": "ipython3",
   "version": "3.10.12"
  }
 },
 "nbformat": 4,
 "nbformat_minor": 5
}
