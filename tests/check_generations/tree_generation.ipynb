{
 "cells": [
  {
   "cell_type": "code",
   "execution_count": 2,
   "id": "4d744dbe",
   "metadata": {},
   "outputs": [],
   "source": [
    "import pickle as pkl\n",
    "import os\n",
    "import networkx as nx\n"
   ]
  },
  {
   "cell_type": "code",
   "execution_count": 3,
   "id": "4ce0756f",
   "metadata": {},
   "outputs": [
    {
     "name": "stdout",
     "output_type": "stream",
     "text": [
      "[([<networkx.classes.digraph.DiGraph object at 0x7eb8a68c88b0>, <networkx.classes.digraph.DiGraph object at 0x7eb8a75f2740>, <networkx.classes.digraph.DiGraph object at 0x7eb8a75f28f0>, <networkx.classes.digraph.DiGraph object at 0x7eb8a6b5c760>, <networkx.classes.digraph.DiGraph object at 0x7eb8a5f99de0>, <networkx.classes.digraph.DiGraph object at 0x7eb8a5f99e40>, <networkx.classes.digraph.DiGraph object at 0x7eb8a689be50>, <networkx.classes.digraph.DiGraph object at 0x7eb8a69e2cb0>, <networkx.classes.digraph.DiGraph object at 0x7eb8a69e28c0>, <networkx.classes.digraph.DiGraph object at 0x7eb8a69e2650>, <networkx.classes.digraph.DiGraph object at 0x7eb8a5f99990>, <networkx.classes.digraph.DiGraph object at 0x7eb8a5f99870>, <networkx.classes.digraph.DiGraph object at 0x7eb8a5f996c0>, <networkx.classes.digraph.DiGraph object at 0x7eb8a5f983d0>, <networkx.classes.digraph.DiGraph object at 0x7eb8a5f99d20>, <networkx.classes.digraph.DiGraph object at 0x7eb8a5f99ae0>, <networkx.classes.digraph.DiGraph object at 0x7eb8a5f99c60>, <networkx.classes.digraph.DiGraph object at 0x7eb8a5f99ea0>, <networkx.classes.digraph.DiGraph object at 0x7eb8a5f99f00>, <networkx.classes.digraph.DiGraph object at 0x7eb8a5f99f60>, <networkx.classes.digraph.DiGraph object at 0x7eb8a5f99fc0>, <networkx.classes.digraph.DiGraph object at 0x7eb8a5f9a020>, <networkx.classes.digraph.DiGraph object at 0x7eb8a5f9a080>, <networkx.classes.digraph.DiGraph object at 0x7eb8a5f9a0e0>, <networkx.classes.digraph.DiGraph object at 0x7eb8a5f9a140>, <networkx.classes.digraph.DiGraph object at 0x7eb8a5f9a1a0>, <networkx.classes.digraph.DiGraph object at 0x7eb8a5f9a200>, <networkx.classes.digraph.DiGraph object at 0x7eb8a5f9a260>, <networkx.classes.digraph.DiGraph object at 0x7eb8a5f9a2c0>, <networkx.classes.digraph.DiGraph object at 0x7eb8a5f9a320>, <networkx.classes.digraph.DiGraph object at 0x7eb8a5f9a380>, <networkx.classes.digraph.DiGraph object at 0x7eb8a5f9a3e0>, <networkx.classes.digraph.DiGraph object at 0x7eb8a5f9a440>, <networkx.classes.digraph.DiGraph object at 0x7eb8a5f9a4a0>, <networkx.classes.digraph.DiGraph object at 0x7eb8a5f9a500>, <networkx.classes.digraph.DiGraph object at 0x7eb8a5f9a560>, <networkx.classes.digraph.DiGraph object at 0x7eb8a5f9a5c0>, <networkx.classes.digraph.DiGraph object at 0x7eb8a5f9a620>, <networkx.classes.digraph.DiGraph object at 0x7eb8a5f9a680>, <networkx.classes.digraph.DiGraph object at 0x7eb8a5f9a6e0>, <networkx.classes.digraph.DiGraph object at 0x7eb8a5f9a740>, <networkx.classes.digraph.DiGraph object at 0x7eb8a5f9a7a0>, <networkx.classes.digraph.DiGraph object at 0x7eb8a5f9a800>, <networkx.classes.digraph.DiGraph object at 0x7eb8a5f9a860>, <networkx.classes.digraph.DiGraph object at 0x7eb8a5f9a8c0>, <networkx.classes.digraph.DiGraph object at 0x7eb8a5f9a920>, <networkx.classes.digraph.DiGraph object at 0x7eb8a5f9a980>, <networkx.classes.digraph.DiGraph object at 0x7eb8a5f9a9e0>, <networkx.classes.digraph.DiGraph object at 0x7eb8a5f9aa40>, <networkx.classes.digraph.DiGraph object at 0x7eb8a5f9aaa0>, <networkx.classes.digraph.DiGraph object at 0x7eb8a5f9ab00>, <networkx.classes.digraph.DiGraph object at 0x7eb8a5f9ab60>, <networkx.classes.digraph.DiGraph object at 0x7eb8a5f9abc0>, <networkx.classes.digraph.DiGraph object at 0x7eb8a5f9ac20>, <networkx.classes.digraph.DiGraph object at 0x7eb8a5f9ac80>, <networkx.classes.digraph.DiGraph object at 0x7eb8a5f9ace0>, <networkx.classes.digraph.DiGraph object at 0x7eb8a5f9ad40>, <networkx.classes.digraph.DiGraph object at 0x7eb8a5f9ada0>, <networkx.classes.digraph.DiGraph object at 0x7eb8a5f9ae00>, <networkx.classes.digraph.DiGraph object at 0x7eb8a5f9ae60>, <networkx.classes.digraph.DiGraph object at 0x7eb8a5f9aec0>, <networkx.classes.digraph.DiGraph object at 0x7eb8a5f9af20>, <networkx.classes.digraph.DiGraph object at 0x7eb8a5f9af80>, <networkx.classes.digraph.DiGraph object at 0x7eb8a5f9afe0>, <networkx.classes.digraph.DiGraph object at 0x7eb8a5f9b040>, <networkx.classes.digraph.DiGraph object at 0x7eb8a5f9b0a0>, <networkx.classes.digraph.DiGraph object at 0x7eb8a5f9b100>, <networkx.classes.digraph.DiGraph object at 0x7eb8a5f9b160>, <networkx.classes.digraph.DiGraph object at 0x7eb8a5f9b1c0>, <networkx.classes.digraph.DiGraph object at 0x7eb8a5f9b220>, <networkx.classes.digraph.DiGraph object at 0x7eb8a5f9b280>, <networkx.classes.digraph.DiGraph object at 0x7eb8a5f9b2e0>, <networkx.classes.digraph.DiGraph object at 0x7eb8a5f9b340>, <networkx.classes.digraph.DiGraph object at 0x7eb8a5f9b3a0>, <networkx.classes.digraph.DiGraph object at 0x7eb8a5f9b400>, <networkx.classes.digraph.DiGraph object at 0x7eb8a5f9b460>, <networkx.classes.digraph.DiGraph object at 0x7eb8a5f9b4c0>, <networkx.classes.digraph.DiGraph object at 0x7eb8a5f9b520>, <networkx.classes.digraph.DiGraph object at 0x7eb8a5f9b580>, <networkx.classes.digraph.DiGraph object at 0x7eb8a5f9b5e0>, <networkx.classes.digraph.DiGraph object at 0x7eb8a5f9b640>, <networkx.classes.digraph.DiGraph object at 0x7eb8a5f9b6a0>, <networkx.classes.digraph.DiGraph object at 0x7eb8a5f9b700>, <networkx.classes.digraph.DiGraph object at 0x7eb8a5f9b760>, <networkx.classes.digraph.DiGraph object at 0x7eb8a5f9b7c0>, <networkx.classes.digraph.DiGraph object at 0x7eb8a5f9b820>, <networkx.classes.digraph.DiGraph object at 0x7eb8a5f9b880>, <networkx.classes.digraph.DiGraph object at 0x7eb8a5f9b8e0>, <networkx.classes.digraph.DiGraph object at 0x7eb8a5f9b940>, <networkx.classes.digraph.DiGraph object at 0x7eb8a5f9b9a0>, <networkx.classes.digraph.DiGraph object at 0x7eb8a5f9ba00>, <networkx.classes.digraph.DiGraph object at 0x7eb8a5f9ba60>, <networkx.classes.digraph.DiGraph object at 0x7eb8a5f9bac0>, <networkx.classes.digraph.DiGraph object at 0x7eb8a5f9bb20>, <networkx.classes.digraph.DiGraph object at 0x7eb8a5f9bb80>, <networkx.classes.digraph.DiGraph object at 0x7eb8a5f9bbe0>, <networkx.classes.digraph.DiGraph object at 0x7eb8a5f9bc40>, <networkx.classes.digraph.DiGraph object at 0x7eb8a5f9bca0>, <networkx.classes.digraph.DiGraph object at 0x7eb8a5f9bd00>, <networkx.classes.digraph.DiGraph object at 0x7eb8a5f9bd60>, <networkx.classes.digraph.DiGraph object at 0x7eb8a5f9bdc0>, <networkx.classes.digraph.DiGraph object at 0x7eb8a5f9be20>, <networkx.classes.digraph.DiGraph object at 0x7eb8a5f9be80>, <networkx.classes.digraph.DiGraph object at 0x7eb8a5f9bee0>, <networkx.classes.digraph.DiGraph object at 0x7eb8a5f9bf40>, <networkx.classes.digraph.DiGraph object at 0x7eb8a5f9bfa0>, <networkx.classes.digraph.DiGraph object at 0x7eb8a51f8040>, <networkx.classes.digraph.DiGraph object at 0x7eb8a51f80a0>, <networkx.classes.digraph.DiGraph object at 0x7eb8a51f8100>, <networkx.classes.digraph.DiGraph object at 0x7eb8a51f8160>, <networkx.classes.digraph.DiGraph object at 0x7eb8a51f81c0>, <networkx.classes.digraph.DiGraph object at 0x7eb8a51f8220>, <networkx.classes.digraph.DiGraph object at 0x7eb8a51f8280>, <networkx.classes.digraph.DiGraph object at 0x7eb8a51f82e0>, <networkx.classes.digraph.DiGraph object at 0x7eb8a51f8340>, <networkx.classes.digraph.DiGraph object at 0x7eb8a51f83a0>, <networkx.classes.digraph.DiGraph object at 0x7eb8a51f8400>, <networkx.classes.digraph.DiGraph object at 0x7eb8a5f99660>, <networkx.classes.digraph.DiGraph object at 0x7eb8a5f990f0>, <networkx.classes.digraph.DiGraph object at 0x7eb8a5f98e50>, <networkx.classes.digraph.DiGraph object at 0x7eb8a6974910>, <networkx.classes.digraph.DiGraph object at 0x7eb8a6a7b1c0>, <networkx.classes.digraph.DiGraph object at 0x7eb8a682ac50>, <networkx.classes.digraph.DiGraph object at 0x7eb8a6883d30>, <networkx.classes.digraph.DiGraph object at 0x7eb8a69e2530>, <networkx.classes.digraph.DiGraph object at 0x7eb8c0db1e70>, <networkx.classes.digraph.DiGraph object at 0x7eb8a75f10f0>, <networkx.classes.digraph.DiGraph object at 0x7eb8a75c3df0>, <networkx.classes.digraph.DiGraph object at 0x7eb8a75c22f0>, <networkx.classes.digraph.DiGraph object at 0x7eb8a75c1cf0>, <networkx.classes.digraph.DiGraph object at 0x7eb8a69f6b30>, <networkx.classes.digraph.DiGraph object at 0x7eb8a69f75e0>, <networkx.classes.digraph.DiGraph object at 0x7eb8a689baf0>, <networkx.classes.digraph.DiGraph object at 0x7eb8a68c8d60>, <networkx.classes.digraph.DiGraph object at 0x7eb8a68c8b50>, <networkx.classes.digraph.DiGraph object at 0x7eb8a6b5cd60>, <networkx.classes.digraph.DiGraph object at 0x7eb8c098f040>, <networkx.classes.digraph.DiGraph object at 0x7eb8c098f0d0>, <networkx.classes.digraph.DiGraph object at 0x7eb8a51f8430>, <networkx.classes.digraph.DiGraph object at 0x7eb8a51f8490>, <networkx.classes.digraph.DiGraph object at 0x7eb8a51f84f0>, <networkx.classes.digraph.DiGraph object at 0x7eb8a51f8550>, <networkx.classes.digraph.DiGraph object at 0x7eb8a51f85b0>, <networkx.classes.digraph.DiGraph object at 0x7eb8a51f8610>, <networkx.classes.digraph.DiGraph object at 0x7eb8a51f8670>, <networkx.classes.digraph.DiGraph object at 0x7eb8a51f86d0>, <networkx.classes.digraph.DiGraph object at 0x7eb8a51f8730>, <networkx.classes.digraph.DiGraph object at 0x7eb8a51f8790>, <networkx.classes.digraph.DiGraph object at 0x7eb8a51f87f0>, <networkx.classes.digraph.DiGraph object at 0x7eb8a51f8850>, <networkx.classes.digraph.DiGraph object at 0x7eb8a51f88b0>, <networkx.classes.digraph.DiGraph object at 0x7eb8a51f8910>, <networkx.classes.digraph.DiGraph object at 0x7eb8a51f8970>, <networkx.classes.digraph.DiGraph object at 0x7eb8a51f89d0>, <networkx.classes.digraph.DiGraph object at 0x7eb8a51f8a30>, <networkx.classes.digraph.DiGraph object at 0x7eb8a51f8a90>, <networkx.classes.digraph.DiGraph object at 0x7eb8a51f8af0>, <networkx.classes.digraph.DiGraph object at 0x7eb8a51f8b50>, <networkx.classes.digraph.DiGraph object at 0x7eb8a51f8bb0>, <networkx.classes.digraph.DiGraph object at 0x7eb8a51f8c10>, <networkx.classes.digraph.DiGraph object at 0x7eb8a51f8c70>, <networkx.classes.digraph.DiGraph object at 0x7eb8a51f8cd0>, <networkx.classes.digraph.DiGraph object at 0x7eb8a51f8d30>, <networkx.classes.digraph.DiGraph object at 0x7eb8a51f8d90>, <networkx.classes.digraph.DiGraph object at 0x7eb8a51f8df0>, <networkx.classes.digraph.DiGraph object at 0x7eb8a51f8e50>, <networkx.classes.digraph.DiGraph object at 0x7eb8a51f8eb0>, <networkx.classes.digraph.DiGraph object at 0x7eb8a51f8f10>, <networkx.classes.digraph.DiGraph object at 0x7eb8a51f8f70>, <networkx.classes.digraph.DiGraph object at 0x7eb8a51f8fd0>, <networkx.classes.digraph.DiGraph object at 0x7eb8a51f9030>, <networkx.classes.digraph.DiGraph object at 0x7eb8a51f9090>, <networkx.classes.digraph.DiGraph object at 0x7eb8a51f90f0>, <networkx.classes.digraph.DiGraph object at 0x7eb8a51f9150>, <networkx.classes.digraph.DiGraph object at 0x7eb8a51f91b0>, <networkx.classes.digraph.DiGraph object at 0x7eb8a51f9210>, <networkx.classes.digraph.DiGraph object at 0x7eb8a51f9270>, <networkx.classes.digraph.DiGraph object at 0x7eb8a51f92d0>, <networkx.classes.digraph.DiGraph object at 0x7eb8a51f9330>, <networkx.classes.digraph.DiGraph object at 0x7eb8a51f9390>, <networkx.classes.digraph.DiGraph object at 0x7eb8a51f93f0>, <networkx.classes.digraph.DiGraph object at 0x7eb8a51f9450>, <networkx.classes.digraph.DiGraph object at 0x7eb8a51f94b0>, <networkx.classes.digraph.DiGraph object at 0x7eb8a51f9510>, <networkx.classes.digraph.DiGraph object at 0x7eb8a51f9570>, <networkx.classes.digraph.DiGraph object at 0x7eb8a51f95d0>, <networkx.classes.digraph.DiGraph object at 0x7eb8a51f9630>, <networkx.classes.digraph.DiGraph object at 0x7eb8a51f9690>, <networkx.classes.digraph.DiGraph object at 0x7eb8a51f96f0>, <networkx.classes.digraph.DiGraph object at 0x7eb8a51f9750>, <networkx.classes.digraph.DiGraph object at 0x7eb8a51f97b0>, <networkx.classes.digraph.DiGraph object at 0x7eb8a51f9810>, <networkx.classes.digraph.DiGraph object at 0x7eb8a51f9870>, <networkx.classes.digraph.DiGraph object at 0x7eb8a51f98d0>, <networkx.classes.digraph.DiGraph object at 0x7eb8a51f9930>, <networkx.classes.digraph.DiGraph object at 0x7eb8a51f9990>, <networkx.classes.digraph.DiGraph object at 0x7eb8a51f99f0>, <networkx.classes.digraph.DiGraph object at 0x7eb8a51f9a50>, <networkx.classes.digraph.DiGraph object at 0x7eb8a51f9ab0>, <networkx.classes.digraph.DiGraph object at 0x7eb8a51f9b10>, <networkx.classes.digraph.DiGraph object at 0x7eb8a51f9b70>, <networkx.classes.digraph.DiGraph object at 0x7eb8a51f9bd0>, <networkx.classes.digraph.DiGraph object at 0x7eb8a51f9c30>, <networkx.classes.digraph.DiGraph object at 0x7eb8a51f9c90>, <networkx.classes.digraph.DiGraph object at 0x7eb8a51f9cf0>, <networkx.classes.digraph.DiGraph object at 0x7eb8a51f9d50>, <networkx.classes.digraph.DiGraph object at 0x7eb8a51f9db0>, <networkx.classes.digraph.DiGraph object at 0x7eb8a51f9e10>, <networkx.classes.digraph.DiGraph object at 0x7eb8a51f9e70>, <networkx.classes.digraph.DiGraph object at 0x7eb8a51f9ed0>, <networkx.classes.digraph.DiGraph object at 0x7eb8a51f9f30>, <networkx.classes.digraph.DiGraph object at 0x7eb8a51f9f90>, <networkx.classes.digraph.DiGraph object at 0x7eb8a51f9ff0>, <networkx.classes.digraph.DiGraph object at 0x7eb8a51fa050>, <networkx.classes.digraph.DiGraph object at 0x7eb8a51fa0b0>, <networkx.classes.digraph.DiGraph object at 0x7eb8a51fa110>, <networkx.classes.digraph.DiGraph object at 0x7eb8a51fa170>, <networkx.classes.digraph.DiGraph object at 0x7eb8a51fa1d0>, <networkx.classes.digraph.DiGraph object at 0x7eb8a51fa230>, <networkx.classes.digraph.DiGraph object at 0x7eb8a51fa290>, <networkx.classes.digraph.DiGraph object at 0x7eb8a51fa2f0>, <networkx.classes.digraph.DiGraph object at 0x7eb8a51fa350>, <networkx.classes.digraph.DiGraph object at 0x7eb8a51fa3b0>, <networkx.classes.digraph.DiGraph object at 0x7eb8a51fa410>, <networkx.classes.digraph.DiGraph object at 0x7eb8a51fa470>, <networkx.classes.digraph.DiGraph object at 0x7eb8a51fa4d0>, <networkx.classes.digraph.DiGraph object at 0x7eb8a51fa530>, <networkx.classes.digraph.DiGraph object at 0x7eb8a51fa590>, <networkx.classes.digraph.DiGraph object at 0x7eb8a51fa5f0>, <networkx.classes.digraph.DiGraph object at 0x7eb8a51fa650>, <networkx.classes.digraph.DiGraph object at 0x7eb8a51fa6b0>, <networkx.classes.digraph.DiGraph object at 0x7eb8a51fa710>, <networkx.classes.digraph.DiGraph object at 0x7eb8a51fa770>, <networkx.classes.digraph.DiGraph object at 0x7eb8a51fa7d0>, <networkx.classes.digraph.DiGraph object at 0x7eb8a51fa830>, <networkx.classes.digraph.DiGraph object at 0x7eb8a51fa890>, <networkx.classes.digraph.DiGraph object at 0x7eb8a51fa8f0>, <networkx.classes.digraph.DiGraph object at 0x7eb8a51fa950>, <networkx.classes.digraph.DiGraph object at 0x7eb8a51fa9b0>, <networkx.classes.digraph.DiGraph object at 0x7eb8a51faa10>, <networkx.classes.digraph.DiGraph object at 0x7eb8a51faa70>, <networkx.classes.digraph.DiGraph object at 0x7eb8a51faad0>, <networkx.classes.digraph.DiGraph object at 0x7eb8a51fab30>, <networkx.classes.digraph.DiGraph object at 0x7eb8a51fab90>, <networkx.classes.digraph.DiGraph object at 0x7eb8a51fabf0>, <networkx.classes.digraph.DiGraph object at 0x7eb8a51fac50>, <networkx.classes.digraph.DiGraph object at 0x7eb8a51facb0>, <networkx.classes.digraph.DiGraph object at 0x7eb8a51fad10>, <networkx.classes.digraph.DiGraph object at 0x7eb8a51fad70>, <networkx.classes.digraph.DiGraph object at 0x7eb8a51fadd0>, <networkx.classes.digraph.DiGraph object at 0x7eb8a51fae30>, <networkx.classes.digraph.DiGraph object at 0x7eb8a51fae90>, <networkx.classes.digraph.DiGraph object at 0x7eb8a51faef0>, <networkx.classes.digraph.DiGraph object at 0x7eb8a51faf50>, <networkx.classes.digraph.DiGraph object at 0x7eb8a51fafb0>, <networkx.classes.digraph.DiGraph object at 0x7eb8a51fb010>], tensor([2, 3, 3, 3, 3, 3, 3, 3, 3, 3, 3, 3, 3, 3, 3, 3, 3, 3, 3, 3, 3, 3, 3, 3,\n",
      "        3, 3, 1, 1, 1, 1, 1, 1, 0, 0, 0, 0, 0, 0, 0, 0, 1, 2, 0, 3, 1, 1, 0, 3,\n",
      "        0, 1, 0, 1, 0, 3, 2, 3, 0, 0, 2, 2, 1, 1, 1, 3, 0, 3, 0, 0, 1, 0, 3, 3,\n",
      "        3, 0, 3, 1, 0, 1, 0, 0, 0, 1, 2, 2, 0, 0, 2, 0, 0, 3, 0, 2, 3, 2, 1, 1,\n",
      "        1, 2, 0, 2, 1, 2, 3, 2, 0, 1, 0, 1, 0, 3, 2, 3, 3, 3, 3, 1, 3, 3, 2, 1,\n",
      "        0, 1, 3, 0, 3, 2, 1, 1, 1, 0, 0, 0, 1, 0, 1, 1, 0, 1, 1, 0, 1, 0, 1, 0,\n",
      "        0, 0, 1, 2, 1, 1, 1, 0, 1, 0, 0, 0, 2, 1, 1, 0, 1, 2, 3, 0, 0, 2, 2, 2,\n",
      "        1, 0, 3, 3, 2, 3, 0, 0, 3, 1, 3, 1, 2, 1, 1, 3, 2, 0, 3, 0, 1, 3, 3, 0,\n",
      "        0, 0, 2, 2, 0, 1, 2, 1, 3, 3, 3, 0, 1, 1, 1, 3, 1, 3, 1, 0, 1, 1, 1, 3,\n",
      "        2, 2, 3, 1, 1, 0, 2, 1, 2, 2, 0, 1, 2, 0, 1, 1, 2, 3, 2, 1, 2, 1, 0, 2,\n",
      "        3, 1, 1, 3, 2, 2, 3, 3, 3, 0, 2, 0, 1, 2, 2, 3]))]\n"
     ]
    }
   ],
   "source": [
    "with open(\"/app/src/Clean_Code/output/text_graphs/SetFit/ag_news/test/constituency/0.pkl\", \"rb\") as f:\n",
    "    data = pkl.load(f)\n",
    "print(data)"
   ]
  },
  {
   "cell_type": "code",
   "execution_count": 3,
   "id": "6c7b5644",
   "metadata": {},
   "outputs": [
    {
     "data": {
      "text/plain": [
       "256"
      ]
     },
     "execution_count": 3,
     "metadata": {},
     "output_type": "execute_result"
    }
   ],
   "source": [
    "len(data[0][1])"
   ]
  },
  {
   "cell_type": "code",
   "execution_count": 5,
   "id": "a67ccba5",
   "metadata": {},
   "outputs": [
    {
     "data": {
      "text/plain": [
       "NodeDataView({'ROOT': {'label': 'ROOT'}, 'S0': {'label': '«SENTENCE»'}, 'S00': {'label': '«SENTENCE»'}, 'NP000': {'label': '«NOUN PHRASE»'}, 'DT0000': {'label': 'DT'}, 0: {'label': 'The'}, 'NN0001': {'label': 'NN'}, 4: {'label': 'Race'}, 'VP001': {'label': '«VERB PHRASE»'}, 'VBZ0010': {'label': 'VBZ'}, 9: {'label': 'is'}, 'PP0011': {'label': '«PREPOSITIONAL PHRASE»'}, 'IN00110': {'label': 'IN'}, 12: {'label': 'On'}, ':0012': {'label': ':'}, 14: {'label': ':'}, 'S0013': {'label': '«SENTENCE»'}, 'NP00130': {'label': '«NOUN PHRASE»'}, 'NML001300': {'label': 'NML'}, 'NNP0013000': {'label': 'NNP'}, 16: {'label': 'Second'}, 'JJ0013001': {'label': 'JJ'}, 23: {'label': 'Private'}, 'NNP0013002': {'label': 'NNP'}, 31: {'label': 'Team'}, 'NNS001301': {'label': 'NNS'}, 36: {'label': 'Sets'}, 'NP00131': {'label': '«NOUN PHRASE»'}, 'NP001310': {'label': '«NOUN PHRASE»'}, 'NP0013100': {'label': '«NOUN PHRASE»'}, 'NNP00131000': {'label': 'NNP'}, 41: {'label': 'Launch'}, 'NN00131001': {'label': 'NN'}, 48: {'label': 'Date'}, 'PP0013101': {'label': '«PREPOSITIONAL PHRASE»'}, 'IN00131010': {'label': 'IN'}, 53: {'label': 'for'}, 'NP00131011': {'label': '«NOUN PHRASE»'}, 'NNP001310110': {'label': 'NNP'}, 57: {'label': 'Human'}, 'NNP001310111': {'label': 'NNP'}, 63: {'label': 'Spaceflight'}, '-LRB-001311': {'label': '-LRB-'}, 'NP001312': {'label': '«NOUN PHRASE»'}, 'NNP0013120': {'label': 'NNP'}, 76: {'label': 'SPACE.com'}, '-RRB-001313': {'label': '-RRB-'}, 'NP001314': {'label': '«NOUN PHRASE»'}, 'NP0013140': {'label': '«NOUN PHRASE»'}, 'NNP00131400': {'label': 'NNP'}, ':00131401': {'label': ':'}, 97: {'label': '-'}, 'NNP00131402': {'label': 'NNP'}, 99: {'label': 'TORONTO'}, ',0013141': {'label': ','}, 106: {'label': ','}, 'NP0013142': {'label': '«NOUN PHRASE»'}, 'NNP00131420': {'label': 'NNP'}, 108: {'label': 'Canada'}, ',002': {'label': ','}, 115: {'label': '--'}, 'S01': {'label': '«SENTENCE»'}, 'NP010': {'label': '«NOUN PHRASE»'}, 'NP0100': {'label': '«NOUN PHRASE»'}, 'DT01000': {'label': 'DT'}, 78: {'label': 'A'}, 'NN01001': {'label': 'NN'}, 120: {'label': 'second\\\\team'}, 'PP0101': {'label': '«PREPOSITIONAL PHRASE»'}, 'IN01010': {'label': 'IN'}, 132: {'label': 'of'}, 'NP01011': {'label': '«NOUN PHRASE»'}, 'NP010110': {'label': '«NOUN PHRASE»'}, 'NNS0101100': {'label': 'NNS'}, 135: {'label': 'rocket'}, 'VP010111': {'label': '«VERB PHRASE»'}, 'VBG0101110': {'label': 'VBG'}, 146: {'label': 'competing'}, 'PP0101111': {'label': '«PREPOSITIONAL PHRASE»'}, 'IN01011110': {'label': 'IN'}, 'NP01011111': {'label': '«NOUN PHRASE»'}, 'NP010111110': {'label': '«NOUN PHRASE»'}, 'DT0101111100': {'label': 'DT'}, 160: {'label': 'the'}, 'NML0101111101': {'label': 'NML'}, 'QP01011111010': {'label': '«QUANTIFIER PHRASE»'}, 'NN010111110100': {'label': 'NN'}, 165: {'label': '#'}, 'CD010111110101': {'label': 'CD'}, 166: {'label': '36;10'}, 'CD010111110102': {'label': 'CD'}, 172: {'label': 'million'}, 'NNP0101111102': {'label': 'NNP'}, 180: {'label': 'Ansari'}, 'NNP0101111103': {'label': 'NNP'}, 187: {'label': '«UNKNOWN»'}, 'NNP0101111104': {'label': 'NNP'}, 189: {'label': 'Prize'}, ',010111111': {'label': ','}, 'NP010111112': {'label': '«NOUN PHRASE»'}, 'NP0101111120': {'label': '«NOUN PHRASE»'}, 'DT01011111200': {'label': 'DT'}, 5: {'label': 'a'}, 'NN01011111201': {'label': 'NN'}, 198: {'label': 'contest'}, 'ADJP0101111121': {'label': '«ADJECTIVE PHRASE»'}, 'RB01011111210': {'label': 'RB'}, 206: {'label': 'for\\\\privately'}, 'VBN01011111211': {'label': 'VBN'}, 220: {'label': 'funded'}, 'NML0101111122': {'label': 'NML'}, 'JJ01011111220': {'label': 'JJ'}, 227: {'label': 'suborbital'}, 'NN01011111221': {'label': 'NN'}, 238: {'label': 'space'}, 'NN0101111123': {'label': 'NN'}, 68: {'label': 'flight'}, ',010111113': {'label': ','}, 'VP011': {'label': '«VERB PHRASE»'}, 'VBZ0110': {'label': 'VBZ'}, 252: {'label': 'has'}, 'ADVP0111': {'label': '«ADVERB PHRASE»'}, 'RB01110': {'label': 'RB'}, 256: {'label': 'officially'}, 'VP0112': {'label': '«VERB PHRASE»'}, 'VBN01120': {'label': 'VBN'}, 267: {'label': 'announced'}, 'NP01121': {'label': '«NOUN PHRASE»'}, 'NP011210': {'label': '«NOUN PHRASE»'}, 'DT0112100': {'label': 'DT'}, 'JJ0112101': {'label': 'JJ'}, 281: {'label': 'first'}, 'NN0112102': {'label': 'NN'}, 286: {'label': '\\\\launch'}, 'NN0112103': {'label': 'NN'}, 294: {'label': 'date'}, 'PP011211': {'label': '«PREPOSITIONAL PHRASE»'}, 'IN0112110': {'label': 'IN'}, 'NP0112111': {'label': '«NOUN PHRASE»'}, 'PRP$01121110': {'label': 'PRP$'}, 303: {'label': 'its'}, 'VBN01121111': {'label': 'VBN'}, 307: {'label': 'manned'}, 'NN01121112': {'label': 'NN'}, '.012': {'label': '.'}, 81: {'label': '.'}})"
      ]
     },
     "execution_count": 5,
     "metadata": {},
     "output_type": "execute_result"
    }
   ],
   "source": [
    "data[0][0][1].nodes(data=True)"
   ]
  },
  {
   "cell_type": "code",
   "execution_count": 9,
   "id": "eb1343fd",
   "metadata": {},
   "outputs": [
    {
     "data": {
      "text/plain": [
       "OutEdgeDataView([('ROOT', 'S0', {'label': 'constituency relation'}), ('S0', 'NP00', {'label': 'constituency relation'}), ('S0', 'PP01', {'label': 'constituency relation'}), ('S0', 'VP02', {'label': 'constituency relation'}), ('S0', '.03', {'label': 'constituency relation'}), ('NP00', 'NP000', {'label': 'constituency relation'}), ('NP00', 'PP001', {'label': 'constituency relation'}), ('NP000', 'NNS0000', {'label': 'constituency relation'}), ('NNS0000', 0, {'label': 'constituency relation'}), ('PP001', 'IN0010', {'label': 'constituency relation'}), ('PP001', 'NP0011', {'label': 'constituency relation'}), ('IN0010', 6, {'label': 'constituency relation'}), ('NP0011', 'NML00110', {'label': 'constituency relation'}), ('NP0011', 'NN00111', {'label': 'constituency relation'}), ('NML00110', 'NNP001100', {'label': 'constituency relation'}), ('NML00110', 'NNP001101', {'label': 'constituency relation'}), ('NNP001100', 10, {'label': 'constituency relation'}), ('NNP001101', 12, {'label': 'constituency relation'}), ('NN00111', 14, {'label': 'constituency relation'}), ('PP01', 'IN010', {'label': 'constituency relation'}), ('PP01', 'NP011', {'label': 'constituency relation'}), ('IN010', 22, {'label': 'constituency relation'}), ('NP011', 'NP0110', {'label': 'constituency relation'}), ('NP011', 'VP0111', {'label': 'constituency relation'}), ('NP0110', 'NNS01100', {'label': 'constituency relation'}), ('NP0110', 'NNS01101', {'label': 'constituency relation'}), ('NNS01100', 28, {'label': 'constituency relation'}), ('NNS01101', 34, {'label': 'constituency relation'}), ('VP0111', 'VBG01110', {'label': 'constituency relation'}), ('VP0111', 'NP01111', {'label': 'constituency relation'}), ('VBG01110', 41, {'label': 'constituency relation'}), ('NP01111', 'NP011110', {'label': 'constituency relation'}), ('NP01111', 'PP011111', {'label': 'constituency relation'}), ('NP011110', 'NNS0111100', {'label': 'constituency relation'}), ('NNS0111100', 54, {'label': 'constituency relation'}), ('PP011111', 'IN0111110', {'label': 'constituency relation'}), ('PP011111', 'NP0111111', {'label': 'constituency relation'}), ('IN0111110', 62, {'label': 'constituency relation'}), ('NP0111111', 'NNP01111110', {'label': 'constituency relation'}), ('NP0111111', 'NNP01111111', {'label': 'constituency relation'}), ('NNP01111110', 65, {'label': 'constituency relation'}), ('NNP01111111', 74, {'label': 'constituency relation'}), ('VP02', 'VBP020', {'label': 'constituency relation'}), ('VP02', 'SBAR021', {'label': 'constituency relation'}), ('VBP020', 81, {'label': 'constituency relation'}), ('SBAR021', 'S0210', {'label': 'constituency relation'}), ('S0210', 'NP02100', {'label': 'constituency relation'}), ('S0210', 'VP02101', {'label': 'constituency relation'}), ('NP02100', 'PRP021000', {'label': 'constituency relation'}), ('PRP021000', 85, {'label': 'constituency relation'}), ('VP02101', 'VBP021010', {'label': 'constituency relation'}), ('VP02101', 'VP021011', {'label': 'constituency relation'}), ('VBP021010', 90, {'label': 'constituency relation'}), ('VP021011', '``0210110', {'label': 'constituency relation'}), ('VP021011', 'ADJP0210111', {'label': 'constituency relation'}), ('VP021011', 'PP0210112', {'label': 'constituency relation'}), ('``0210110', 94, {'label': 'constituency relation'}), ('ADJP0210111', 'JJ02101110', {'label': 'constituency relation'}), ('ADJP0210111', \"''02101111\", {'label': 'constituency relation'}), ('JJ02101110', 95, {'label': 'constituency relation'}), (\"''02101111\", 94, {'label': 'constituency relation'}), ('PP0210112', 'IN02101120', {'label': 'constituency relation'}), ('PP0210112', 'NP02101121', {'label': 'constituency relation'}), ('IN02101120', 22, {'label': 'constituency relation'}), ('NP02101121', 'NP021011210', {'label': 'constituency relation'}), ('NP02101121', 'PP021011211', {'label': 'constituency relation'}), ('NP021011210', 'NNS0210112100', {'label': 'constituency relation'}), ('NNS0210112100', 28, {'label': 'constituency relation'}), ('PP021011211', 'IN0210112110', {'label': 'constituency relation'}), ('PP021011211', 'NP0210112111', {'label': 'constituency relation'}), ('IN0210112110', 121, {'label': 'constituency relation'}), ('NP0210112111', 'NML02101121110', {'label': 'constituency relation'}), ('NP0210112111', 'NNP02101121111', {'label': 'constituency relation'}), ('NP0210112111', 'NNP02101121112', {'label': 'constituency relation'}), ('NML02101121110', 'JJ021011211100', {'label': 'constituency relation'}), ('NML02101121110', 'NN021011211101', {'label': 'constituency relation'}), ('NML02101121110', 'NN021011211102', {'label': 'constituency relation'}), ('JJ021011211100', 126, {'label': 'constituency relation'}), ('NN021011211101', 135, {'label': 'constituency relation'}), ('NN021011211102', 142, {'label': 'constituency relation'}), ('NNP02101121111', 147, {'label': 'constituency relation'}), ('NNP02101121112', 155, {'label': 'constituency relation'}), ('.03', 160, {'label': 'constituency relation'})])"
      ]
     },
     "execution_count": 9,
     "metadata": {},
     "output_type": "execute_result"
    }
   ],
   "source": [
    "data[0][0][0].edges(data=True)"
   ]
  },
  {
   "cell_type": "code",
   "execution_count": 14,
   "id": "a44f479b",
   "metadata": {},
   "outputs": [
    {
     "name": "stdout",
     "output_type": "stream",
     "text": [
      "[]\n"
     ]
    }
   ],
   "source": [
    "# give me the isolates nodes in data[0][0][0] for a digraph\n",
    "isolates = list(nx.isolates(data[0][0][0]))\n",
    "print(isolates)\n"
   ]
  }
 ],
 "metadata": {
  "kernelspec": {
   "display_name": "Python 3",
   "language": "python",
   "name": "python3"
  },
  "language_info": {
   "codemirror_mode": {
    "name": "ipython",
    "version": 3
   },
   "file_extension": ".py",
   "mimetype": "text/x-python",
   "name": "python",
   "nbconvert_exporter": "python",
   "pygments_lexer": "ipython3",
   "version": "3.10.12"
  }
 },
 "nbformat": 4,
 "nbformat_minor": 5
}
