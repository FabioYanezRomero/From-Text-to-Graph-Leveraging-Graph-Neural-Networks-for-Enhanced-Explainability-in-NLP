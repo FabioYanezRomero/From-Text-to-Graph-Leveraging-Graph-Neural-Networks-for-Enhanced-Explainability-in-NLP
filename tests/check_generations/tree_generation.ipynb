{
 "cells": [
  {
   "cell_type": "code",
   "execution_count": 1,
   "id": "4d744dbe",
   "metadata": {},
   "outputs": [],
   "source": [
    "import pickle as pkl\n",
    "import os\n",
    "import networkx as nx\n"
   ]
  },
  {
   "cell_type": "code",
   "execution_count": 2,
   "id": "4ce0756f",
   "metadata": {},
   "outputs": [
    {
     "name": "stdout",
     "output_type": "stream",
     "text": [
      "[([<networkx.classes.digraph.DiGraph object at 0x714afdabbeb0>, <networkx.classes.digraph.DiGraph object at 0x714afdabb6d0>, <networkx.classes.digraph.DiGraph object at 0x714afdabb250>, <networkx.classes.digraph.DiGraph object at 0x714afdabbe20>, <networkx.classes.digraph.DiGraph object at 0x714afdabb340>, <networkx.classes.digraph.DiGraph object at 0x714afdabb3d0>, <networkx.classes.digraph.DiGraph object at 0x714afdabba60>, <networkx.classes.digraph.DiGraph object at 0x714afdb5b0d0>, <networkx.classes.digraph.DiGraph object at 0x714afd2fdc30>, <networkx.classes.digraph.DiGraph object at 0x714afd2fdde0>, <networkx.classes.digraph.DiGraph object at 0x714afd2fde40>, <networkx.classes.digraph.DiGraph object at 0x714afd2fda50>, <networkx.classes.digraph.DiGraph object at 0x714afd2fd720>, <networkx.classes.digraph.DiGraph object at 0x714afd2fc520>, <networkx.classes.digraph.DiGraph object at 0x714afd2fdd80>, <networkx.classes.digraph.DiGraph object at 0x714afd2fdd20>, <networkx.classes.digraph.DiGraph object at 0x714afd2fde70>, <networkx.classes.digraph.DiGraph object at 0x714afd2fded0>, <networkx.classes.digraph.DiGraph object at 0x714afd2fdf30>, <networkx.classes.digraph.DiGraph object at 0x714afd2fdf90>, <networkx.classes.digraph.DiGraph object at 0x714afd2fdff0>, <networkx.classes.digraph.DiGraph object at 0x714afd2fe050>, <networkx.classes.digraph.DiGraph object at 0x714afd2fe0b0>, <networkx.classes.digraph.DiGraph object at 0x714afd2fe110>, <networkx.classes.digraph.DiGraph object at 0x714afd2fe170>, <networkx.classes.digraph.DiGraph object at 0x714afd2fe1d0>, <networkx.classes.digraph.DiGraph object at 0x714afd2fe230>, <networkx.classes.digraph.DiGraph object at 0x714afd2fe290>, <networkx.classes.digraph.DiGraph object at 0x714afd2fe2f0>, <networkx.classes.digraph.DiGraph object at 0x714afd2fe350>, <networkx.classes.digraph.DiGraph object at 0x714afd2fe3b0>, <networkx.classes.digraph.DiGraph object at 0x714afd2fe410>, <networkx.classes.digraph.DiGraph object at 0x714afd2fe470>, <networkx.classes.digraph.DiGraph object at 0x714afd2fe4d0>, <networkx.classes.digraph.DiGraph object at 0x714afd2fe530>, <networkx.classes.digraph.DiGraph object at 0x714afd2fe590>, <networkx.classes.digraph.DiGraph object at 0x714afd2fe5f0>, <networkx.classes.digraph.DiGraph object at 0x714afd2fe650>, <networkx.classes.digraph.DiGraph object at 0x714afd2fe6b0>, <networkx.classes.digraph.DiGraph object at 0x714afd2fe710>, <networkx.classes.digraph.DiGraph object at 0x714afd2fe770>, <networkx.classes.digraph.DiGraph object at 0x714afd2fe7d0>, <networkx.classes.digraph.DiGraph object at 0x714afd2fe830>, <networkx.classes.digraph.DiGraph object at 0x714afd2fe890>, <networkx.classes.digraph.DiGraph object at 0x714afd2fe8f0>, <networkx.classes.digraph.DiGraph object at 0x714afd2fe950>, <networkx.classes.digraph.DiGraph object at 0x714afd2fe9b0>, <networkx.classes.digraph.DiGraph object at 0x714afd2fea10>, <networkx.classes.digraph.DiGraph object at 0x714afd2fea70>, <networkx.classes.digraph.DiGraph object at 0x714afd2fead0>, <networkx.classes.digraph.DiGraph object at 0x714afd2feb30>, <networkx.classes.digraph.DiGraph object at 0x714afd2feb90>, <networkx.classes.digraph.DiGraph object at 0x714afd2febf0>, <networkx.classes.digraph.DiGraph object at 0x714afd2fec50>, <networkx.classes.digraph.DiGraph object at 0x714afd2fecb0>, <networkx.classes.digraph.DiGraph object at 0x714afd2fed10>, <networkx.classes.digraph.DiGraph object at 0x714afd2fed70>, <networkx.classes.digraph.DiGraph object at 0x714afd2fedd0>, <networkx.classes.digraph.DiGraph object at 0x714afd2fee30>, <networkx.classes.digraph.DiGraph object at 0x714afd2fee90>, <networkx.classes.digraph.DiGraph object at 0x714afd2feef0>, <networkx.classes.digraph.DiGraph object at 0x714afd2fef50>, <networkx.classes.digraph.DiGraph object at 0x714afd2fefb0>, <networkx.classes.digraph.DiGraph object at 0x714afd2ff010>, <networkx.classes.digraph.DiGraph object at 0x714afd2ff070>, <networkx.classes.digraph.DiGraph object at 0x714afd2ff0d0>, <networkx.classes.digraph.DiGraph object at 0x714afd2ff130>, <networkx.classes.digraph.DiGraph object at 0x714afd2ff190>, <networkx.classes.digraph.DiGraph object at 0x714afd2ff1f0>, <networkx.classes.digraph.DiGraph object at 0x714afd2ff250>, <networkx.classes.digraph.DiGraph object at 0x714afd2ff2b0>, <networkx.classes.digraph.DiGraph object at 0x714afd2ff310>, <networkx.classes.digraph.DiGraph object at 0x714afd2ff370>, <networkx.classes.digraph.DiGraph object at 0x714afd2ff3d0>, <networkx.classes.digraph.DiGraph object at 0x714afd2ff430>, <networkx.classes.digraph.DiGraph object at 0x714afd2ff490>, <networkx.classes.digraph.DiGraph object at 0x714afd2ff4f0>, <networkx.classes.digraph.DiGraph object at 0x714afd2ff550>, <networkx.classes.digraph.DiGraph object at 0x714afd2ff5b0>, <networkx.classes.digraph.DiGraph object at 0x714afd2ff610>, <networkx.classes.digraph.DiGraph object at 0x714afd2ff670>, <networkx.classes.digraph.DiGraph object at 0x714afd2ff6d0>, <networkx.classes.digraph.DiGraph object at 0x714afd2ff730>, <networkx.classes.digraph.DiGraph object at 0x714afd2ff790>, <networkx.classes.digraph.DiGraph object at 0x714afd2ff7f0>, <networkx.classes.digraph.DiGraph object at 0x714afd2ff850>, <networkx.classes.digraph.DiGraph object at 0x714afd2ff8b0>, <networkx.classes.digraph.DiGraph object at 0x714afd2ff910>, <networkx.classes.digraph.DiGraph object at 0x714afd2ff970>, <networkx.classes.digraph.DiGraph object at 0x714afd2ff9d0>, <networkx.classes.digraph.DiGraph object at 0x714afd2ffa30>, <networkx.classes.digraph.DiGraph object at 0x714afd2ffa90>, <networkx.classes.digraph.DiGraph object at 0x714afd2ffaf0>, <networkx.classes.digraph.DiGraph object at 0x714afd2ffb50>, <networkx.classes.digraph.DiGraph object at 0x714afd2ffbb0>, <networkx.classes.digraph.DiGraph object at 0x714afd2ffc10>, <networkx.classes.digraph.DiGraph object at 0x714afd2ffc70>, <networkx.classes.digraph.DiGraph object at 0x714afd2ffcd0>, <networkx.classes.digraph.DiGraph object at 0x714afd2ffd30>, <networkx.classes.digraph.DiGraph object at 0x714afd2ffd90>, <networkx.classes.digraph.DiGraph object at 0x714afd2ffdf0>, <networkx.classes.digraph.DiGraph object at 0x714afd2ffe50>, <networkx.classes.digraph.DiGraph object at 0x714afd2ffeb0>, <networkx.classes.digraph.DiGraph object at 0x714afd2fff10>, <networkx.classes.digraph.DiGraph object at 0x714afd2fff70>, <networkx.classes.digraph.DiGraph object at 0x714afd2fffd0>, <networkx.classes.digraph.DiGraph object at 0x714afd038070>, <networkx.classes.digraph.DiGraph object at 0x714afd0380d0>, <networkx.classes.digraph.DiGraph object at 0x714afd038130>, <networkx.classes.digraph.DiGraph object at 0x714afd038190>, <networkx.classes.digraph.DiGraph object at 0x714afd0381f0>, <networkx.classes.digraph.DiGraph object at 0x714afd038250>, <networkx.classes.digraph.DiGraph object at 0x714afd0382b0>, <networkx.classes.digraph.DiGraph object at 0x714afd038310>, <networkx.classes.digraph.DiGraph object at 0x714afd038370>, <networkx.classes.digraph.DiGraph object at 0x714afd0383d0>, <networkx.classes.digraph.DiGraph object at 0x714afd038430>, <networkx.classes.digraph.DiGraph object at 0x714afd038490>, <networkx.classes.digraph.DiGraph object at 0x714afd0384f0>, <networkx.classes.digraph.DiGraph object at 0x714afd038550>, <networkx.classes.digraph.DiGraph object at 0x714afd0385b0>, <networkx.classes.digraph.DiGraph object at 0x714afd038610>, <networkx.classes.digraph.DiGraph object at 0x714afd038670>, <networkx.classes.digraph.DiGraph object at 0x714afd0386d0>, <networkx.classes.digraph.DiGraph object at 0x714afd038730>, <networkx.classes.digraph.DiGraph object at 0x714afd038790>, <networkx.classes.digraph.DiGraph object at 0x714afd0387f0>, <networkx.classes.digraph.DiGraph object at 0x714afd038850>, <networkx.classes.digraph.DiGraph object at 0x714afd0388b0>, <networkx.classes.digraph.DiGraph object at 0x714afd038910>, <networkx.classes.digraph.DiGraph object at 0x714afd038970>, <networkx.classes.digraph.DiGraph object at 0x714afd0389d0>, <networkx.classes.digraph.DiGraph object at 0x714afd038a30>, <networkx.classes.digraph.DiGraph object at 0x714afd038a90>, <networkx.classes.digraph.DiGraph object at 0x714afd038af0>, <networkx.classes.digraph.DiGraph object at 0x714afd038b50>, <networkx.classes.digraph.DiGraph object at 0x714afd038bb0>, <networkx.classes.digraph.DiGraph object at 0x714afd038c10>, <networkx.classes.digraph.DiGraph object at 0x714afd038c70>, <networkx.classes.digraph.DiGraph object at 0x714afd038cd0>, <networkx.classes.digraph.DiGraph object at 0x714afd038d30>, <networkx.classes.digraph.DiGraph object at 0x714afd038d90>, <networkx.classes.digraph.DiGraph object at 0x714afd038df0>, <networkx.classes.digraph.DiGraph object at 0x714afd038e50>, <networkx.classes.digraph.DiGraph object at 0x714afd038eb0>, <networkx.classes.digraph.DiGraph object at 0x714afd038f10>, <networkx.classes.digraph.DiGraph object at 0x714afd038f70>, <networkx.classes.digraph.DiGraph object at 0x714afd038fd0>, <networkx.classes.digraph.DiGraph object at 0x714afd039030>, <networkx.classes.digraph.DiGraph object at 0x714afd039090>, <networkx.classes.digraph.DiGraph object at 0x714afd0390f0>, <networkx.classes.digraph.DiGraph object at 0x714afd039150>, <networkx.classes.digraph.DiGraph object at 0x714afd0391b0>, <networkx.classes.digraph.DiGraph object at 0x714afd039210>, <networkx.classes.digraph.DiGraph object at 0x714afd039270>, <networkx.classes.digraph.DiGraph object at 0x714afd0392d0>, <networkx.classes.digraph.DiGraph object at 0x714afd039330>, <networkx.classes.digraph.DiGraph object at 0x714afd039390>, <networkx.classes.digraph.DiGraph object at 0x714afd0393f0>, <networkx.classes.digraph.DiGraph object at 0x714afd039450>, <networkx.classes.digraph.DiGraph object at 0x714afd0394b0>, <networkx.classes.digraph.DiGraph object at 0x714afd039510>, <networkx.classes.digraph.DiGraph object at 0x714afd039570>, <networkx.classes.digraph.DiGraph object at 0x714afd0395d0>, <networkx.classes.digraph.DiGraph object at 0x714afd039630>, <networkx.classes.digraph.DiGraph object at 0x714afd039690>, <networkx.classes.digraph.DiGraph object at 0x714afd0396f0>, <networkx.classes.digraph.DiGraph object at 0x714afd039750>, <networkx.classes.digraph.DiGraph object at 0x714afd0397b0>, <networkx.classes.digraph.DiGraph object at 0x714afd039810>, <networkx.classes.digraph.DiGraph object at 0x714afd039870>, <networkx.classes.digraph.DiGraph object at 0x714afd0398d0>, <networkx.classes.digraph.DiGraph object at 0x714afd039930>, <networkx.classes.digraph.DiGraph object at 0x714afd039990>, <networkx.classes.digraph.DiGraph object at 0x714afd0399f0>, <networkx.classes.digraph.DiGraph object at 0x714afd039a50>, <networkx.classes.digraph.DiGraph object at 0x714afd039ab0>, <networkx.classes.digraph.DiGraph object at 0x714afd039b10>, <networkx.classes.digraph.DiGraph object at 0x714afd039b70>, <networkx.classes.digraph.DiGraph object at 0x714afd039bd0>, <networkx.classes.digraph.DiGraph object at 0x714afd039c30>, <networkx.classes.digraph.DiGraph object at 0x714afd039c90>, <networkx.classes.digraph.DiGraph object at 0x714afd039cf0>, <networkx.classes.digraph.DiGraph object at 0x714afd039d50>, <networkx.classes.digraph.DiGraph object at 0x714afd039db0>, <networkx.classes.digraph.DiGraph object at 0x714afd039e10>, <networkx.classes.digraph.DiGraph object at 0x714afd039e70>, <networkx.classes.digraph.DiGraph object at 0x714afd039ed0>, <networkx.classes.digraph.DiGraph object at 0x714afd039f30>, <networkx.classes.digraph.DiGraph object at 0x714afd039f90>, <networkx.classes.digraph.DiGraph object at 0x714afd039ff0>, <networkx.classes.digraph.DiGraph object at 0x714afd03a050>, <networkx.classes.digraph.DiGraph object at 0x714afd03a0b0>, <networkx.classes.digraph.DiGraph object at 0x714afd03a110>, <networkx.classes.digraph.DiGraph object at 0x714afd03a170>, <networkx.classes.digraph.DiGraph object at 0x714afd03a1d0>, <networkx.classes.digraph.DiGraph object at 0x714afd03a230>, <networkx.classes.digraph.DiGraph object at 0x714afd03a290>, <networkx.classes.digraph.DiGraph object at 0x714afd03a2f0>, <networkx.classes.digraph.DiGraph object at 0x714afd03a350>, <networkx.classes.digraph.DiGraph object at 0x714afd03a3b0>, <networkx.classes.digraph.DiGraph object at 0x714afd03a410>, <networkx.classes.digraph.DiGraph object at 0x714afd03a470>, <networkx.classes.digraph.DiGraph object at 0x714afd03a4d0>, <networkx.classes.digraph.DiGraph object at 0x714afd03a530>, <networkx.classes.digraph.DiGraph object at 0x714afd03a590>, <networkx.classes.digraph.DiGraph object at 0x714afd03a5f0>, <networkx.classes.digraph.DiGraph object at 0x714afd03a650>, <networkx.classes.digraph.DiGraph object at 0x714afd03a6b0>, <networkx.classes.digraph.DiGraph object at 0x714afd03a710>, <networkx.classes.digraph.DiGraph object at 0x714afd03a770>, <networkx.classes.digraph.DiGraph object at 0x714afd03a7d0>, <networkx.classes.digraph.DiGraph object at 0x714afd03a830>, <networkx.classes.digraph.DiGraph object at 0x714afd03a890>, <networkx.classes.digraph.DiGraph object at 0x714afd03a8f0>, <networkx.classes.digraph.DiGraph object at 0x714afd03a950>, <networkx.classes.digraph.DiGraph object at 0x714afd03a9b0>, <networkx.classes.digraph.DiGraph object at 0x714afd03aa10>, <networkx.classes.digraph.DiGraph object at 0x714afd03aa70>, <networkx.classes.digraph.DiGraph object at 0x714afd03aad0>, <networkx.classes.digraph.DiGraph object at 0x714afd03ab30>, <networkx.classes.digraph.DiGraph object at 0x714afd03ab90>, <networkx.classes.digraph.DiGraph object at 0x714afd03abf0>, <networkx.classes.digraph.DiGraph object at 0x714afd03ac50>, <networkx.classes.digraph.DiGraph object at 0x714afd03acb0>, <networkx.classes.digraph.DiGraph object at 0x714afd03ad10>, <networkx.classes.digraph.DiGraph object at 0x714afd03ad70>, <networkx.classes.digraph.DiGraph object at 0x714afd03add0>, <networkx.classes.digraph.DiGraph object at 0x714afd03ae30>, <networkx.classes.digraph.DiGraph object at 0x714afd03ae90>, <networkx.classes.digraph.DiGraph object at 0x714afd03aef0>, <networkx.classes.digraph.DiGraph object at 0x714afd03af50>, <networkx.classes.digraph.DiGraph object at 0x714afd03afb0>, <networkx.classes.digraph.DiGraph object at 0x714afd03b010>, <networkx.classes.digraph.DiGraph object at 0x714afd03b070>, <networkx.classes.digraph.DiGraph object at 0x714afd03b0d0>, <networkx.classes.digraph.DiGraph object at 0x714afd03b130>, <networkx.classes.digraph.DiGraph object at 0x714afd03b190>, <networkx.classes.digraph.DiGraph object at 0x714afd03b1f0>, <networkx.classes.digraph.DiGraph object at 0x714afd03b250>, <networkx.classes.digraph.DiGraph object at 0x714afd03b2b0>, <networkx.classes.digraph.DiGraph object at 0x714afd03b310>, <networkx.classes.digraph.DiGraph object at 0x714afd03b370>, <networkx.classes.digraph.DiGraph object at 0x714afd03b3d0>, <networkx.classes.digraph.DiGraph object at 0x714afd03b430>, <networkx.classes.digraph.DiGraph object at 0x714afd03b490>, <networkx.classes.digraph.DiGraph object at 0x714afd03b4f0>, <networkx.classes.digraph.DiGraph object at 0x714afd03b550>, <networkx.classes.digraph.DiGraph object at 0x714afd03b5b0>, <networkx.classes.digraph.DiGraph object at 0x714afd03b610>, <networkx.classes.digraph.DiGraph object at 0x714afd03b670>, <networkx.classes.digraph.DiGraph object at 0x714afd03b6d0>, <networkx.classes.digraph.DiGraph object at 0x714afd03b730>, <networkx.classes.digraph.DiGraph object at 0x714afd03b790>, <networkx.classes.digraph.DiGraph object at 0x714afd03b7f0>, <networkx.classes.digraph.DiGraph object at 0x714afd03b850>], tensor([0, 0, 1, 0, 0, 0, 1, 1, 0, 1, 0, 0, 0, 0, 0, 1, 0, 1, 0, 1, 1, 1, 1, 1,\n",
      "        0, 1, 0, 1, 1, 0, 0, 1, 0, 0, 0, 1, 1, 1, 0, 1, 0, 0, 0, 1, 0, 1, 1, 0,\n",
      "        1, 0, 0, 1, 0, 1, 0, 0, 0, 1, 1, 0, 1, 0, 0, 0, 0, 1, 0, 0, 0, 1, 0, 0,\n",
      "        1, 0, 0, 1, 0, 0, 0, 1, 1, 1, 1, 1, 1, 0, 1, 1, 1, 1, 0, 1, 0, 1, 1, 1,\n",
      "        0, 1, 1, 1, 1, 1, 0, 1, 0, 1, 0, 0, 1, 1, 0, 1, 1, 1, 0, 0, 0, 0, 1, 0,\n",
      "        1, 0, 0, 0, 1, 0, 1, 1, 1, 0, 1, 0, 1, 0, 0, 1, 1, 1, 0, 0, 1, 1, 1, 0,\n",
      "        0, 1, 0, 1, 0, 1, 1, 0, 1, 1, 0, 0, 1, 1, 1, 0, 1, 0, 0, 1, 1, 0, 1, 1,\n",
      "        1, 0, 1, 1, 1, 0, 1, 0, 1, 1, 0, 1, 0, 0, 1, 0, 1, 1, 0, 0, 1, 0, 0, 1,\n",
      "        1, 0, 0, 0, 1, 1, 0, 0, 0, 1, 0, 0, 0, 1, 1, 0, 1, 0, 0, 0, 1, 0, 0, 1,\n",
      "        1, 1, 0, 1, 1, 0, 0, 1, 1, 1, 0, 0, 0, 1, 1, 1, 1, 0, 1, 0, 0, 0, 0, 1,\n",
      "        1, 0, 0, 1, 0, 1, 1, 0, 0, 0, 0, 0, 0, 0, 0, 1]))]\n"
     ]
    }
   ],
   "source": [
    "with open(\"/app/src/Clean_Code/output/text_trees/stanfordnlp/sst2/train/constituency/0.pkl\", \"rb\") as f:\n",
    "    data = pkl.load(f)\n",
    "print(data)"
   ]
  },
  {
   "cell_type": "code",
   "execution_count": 3,
   "id": "6c7b5644",
   "metadata": {},
   "outputs": [
    {
     "data": {
      "text/plain": [
       "256"
      ]
     },
     "execution_count": 3,
     "metadata": {},
     "output_type": "execute_result"
    }
   ],
   "source": [
    "len(data[0][1])"
   ]
  },
  {
   "cell_type": "code",
   "execution_count": 7,
   "id": "a67ccba5",
   "metadata": {},
   "outputs": [
    {
     "data": {
      "text/plain": [
       "NodeDataView({'ROOT': {'id': 0, 'label': 'ROOT'}, 'S0': {'id': 2, 'label': '«SENTENCE»'}, 'VP00': {'id': 4, 'label': '«VERB PHRASE»'}, 'VBZ000': {'id': 6, 'label': '«VERB, 3rd person singular present»'}, 7: {'id': 7, 'label': 'contains'}, 'NP001': {'id': 9, 'label': '«NOUN PHRASE»'}, 'NP0010': {'id': 11, 'label': '«NOUN PHRASE»'}, 'DT00100': {'id': 13, 'label': '«DETERMINER»'}, 14: {'id': 14, 'label': 'no'}, 'NN00101': {'id': 16, 'label': '«NOUN, SINGULAR OR MASS»'}, 17: {'id': 17, 'label': 'wit'}, ',0011': {'id': 19, 'label': ','}, 20: {'id': 20, 'label': ','}, 'NP0012': {'id': 22, 'label': '«NOUN PHRASE»'}, 'RB00120': {'id': 24, 'label': '«ADVERB»'}, 25: {'id': 25, 'label': 'only'}, 'VBN00121': {'id': 27, 'label': '«VERB, past participle»'}, 28: {'id': 28, 'label': 'labored'}, 'NNS00122': {'id': 30, 'label': '«NOUN, PLURAL»'}, 31: {'id': 31, 'label': 'gags'}})"
      ]
     },
     "execution_count": 7,
     "metadata": {},
     "output_type": "execute_result"
    }
   ],
   "source": [
    "data[0][0][1].nodes(data=True)"
   ]
  },
  {
   "cell_type": "code",
   "execution_count": 9,
   "id": "45e1a883",
   "metadata": {},
   "outputs": [
    {
     "name": "stdout",
     "output_type": "stream",
     "text": [
      "Node key: ROOT, id: 0, label: ROOT\n",
      "Node key: S0, id: 2, label: «SENTENCE»\n",
      "Node key: VP00, id: 4, label: «VERB PHRASE»\n",
      "Node key: VBZ000, id: 6, label: «VERB, 3rd person singular present»\n",
      "Node key: 7, id: 7, label: contains\n",
      "Node key: NP001, id: 9, label: «NOUN PHRASE»\n",
      "Node key: NP0010, id: 11, label: «NOUN PHRASE»\n",
      "Node key: DT00100, id: 13, label: «DETERMINER»\n",
      "Node key: 14, id: 14, label: no\n",
      "Node key: NN00101, id: 16, label: «NOUN, SINGULAR OR MASS»\n",
      "Node key: 17, id: 17, label: wit\n",
      "Node key: ,0011, id: 19, label: ,\n",
      "Node key: 20, id: 20, label: ,\n",
      "Node key: NP0012, id: 22, label: «NOUN PHRASE»\n",
      "Node key: RB00120, id: 24, label: «ADVERB»\n",
      "Node key: 25, id: 25, label: only\n",
      "Node key: VBN00121, id: 27, label: «VERB, past participle»\n",
      "Node key: 28, id: 28, label: labored\n",
      "Node key: NNS00122, id: 30, label: «NOUN, PLURAL»\n",
      "Node key: 31, id: 31, label: gags\n"
     ]
    }
   ],
   "source": [
    "sorted_nodes = sorted(data[0][0][1].nodes(data=True), key=lambda x: x[1]['id'])\n",
    "for key, data in sorted_nodes:\n",
    "    print(f\"Node key: {key}, id: {data['id']}, label: {data['label']}\")"
   ]
  },
  {
   "cell_type": "code",
   "execution_count": 4,
   "id": "eb1343fd",
   "metadata": {},
   "outputs": [
    {
     "data": {
      "text/plain": [
       "OutEdgeDataView([('ROOT', 'S0', {'label': 'constituency relation'}), ('S0', 'VP00', {'label': 'constituency relation'}), ('VP00', 'VB000', {'label': 'constituency relation'}), ('VP00', 'NP001', {'label': 'constituency relation'}), ('VP00', 'PP002', {'label': 'constituency relation'}), ('VB000', 7, {'label': 'constituency relation'}), ('NP001', 'JJ0010', {'label': 'constituency relation'}), ('NP001', 'NNS0011', {'label': 'constituency relation'}), ('JJ0010', 12, {'label': 'constituency relation'}), ('NNS0011', 15, {'label': 'constituency relation'}), ('PP002', 'IN0020', {'label': 'constituency relation'}), ('PP002', 'NP0021', {'label': 'constituency relation'}), ('IN0020', 20, {'label': 'constituency relation'}), ('NP0021', 'DT00210', {'label': 'constituency relation'}), ('NP0021', 'JJ00211', {'label': 'constituency relation'}), ('NP0021', 'NNS00212', {'label': 'constituency relation'}), ('DT00210', 25, {'label': 'constituency relation'}), ('JJ00211', 28, {'label': 'constituency relation'}), ('NNS00212', 31, {'label': 'constituency relation'})])"
      ]
     },
     "execution_count": 4,
     "metadata": {},
     "output_type": "execute_result"
    }
   ],
   "source": [
    "data[0][0][0].edges(data=True)"
   ]
  },
  {
   "cell_type": "code",
   "execution_count": 14,
   "id": "a44f479b",
   "metadata": {},
   "outputs": [
    {
     "name": "stdout",
     "output_type": "stream",
     "text": [
      "[]\n"
     ]
    }
   ],
   "source": [
    "# give me the isolates nodes in data[0][0][0] for a digraph\n",
    "isolates = list(nx.isolates(data[0][0][0]))\n",
    "print(isolates)\n"
   ]
  }
 ],
 "metadata": {
  "kernelspec": {
   "display_name": "Python 3",
   "language": "python",
   "name": "python3"
  },
  "language_info": {
   "codemirror_mode": {
    "name": "ipython",
    "version": 3
   },
   "file_extension": ".py",
   "mimetype": "text/x-python",
   "name": "python",
   "nbconvert_exporter": "python",
   "pygments_lexer": "ipython3",
   "version": "3.10.12"
  }
 },
 "nbformat": 4,
 "nbformat_minor": 5
}
