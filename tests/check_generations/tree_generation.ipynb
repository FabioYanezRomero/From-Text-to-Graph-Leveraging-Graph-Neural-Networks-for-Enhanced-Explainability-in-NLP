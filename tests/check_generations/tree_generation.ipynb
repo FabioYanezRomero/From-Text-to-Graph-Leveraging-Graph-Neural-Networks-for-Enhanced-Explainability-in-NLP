{
 "cells": [
  {
   "cell_type": "code",
   "execution_count": 1,
   "id": "4d744dbe",
   "metadata": {},
   "outputs": [],
   "source": [
    "import pickle as pkl\n",
    "import os\n",
    "import networkx as nx\n"
   ]
  },
  {
   "cell_type": "code",
   "execution_count": 5,
   "id": "4ce0756f",
   "metadata": {},
   "outputs": [
    {
     "name": "stdout",
     "output_type": "stream",
     "text": [
      "[([<networkx.classes.digraph.DiGraph object at 0x75eae1d67910>, <networkx.classes.digraph.DiGraph object at 0x75eae1d67a60>, <networkx.classes.digraph.DiGraph object at 0x75eae1d674c0>, <networkx.classes.digraph.DiGraph object at 0x75eae1d67550>, <networkx.classes.digraph.DiGraph object at 0x75eae1336e90>, <networkx.classes.digraph.DiGraph object at 0x75eae154caf0>, <networkx.classes.digraph.DiGraph object at 0x75eae154cb20>, <networkx.classes.digraph.DiGraph object at 0x75eae154cb50>, <networkx.classes.digraph.DiGraph object at 0x75eae154c970>, <networkx.classes.digraph.DiGraph object at 0x75eae13b31f0>, <networkx.classes.digraph.DiGraph object at 0x75eae13b2c50>, <networkx.classes.digraph.DiGraph object at 0x75eae13b3130>, <networkx.classes.digraph.DiGraph object at 0x75eae13b1420>, <networkx.classes.digraph.DiGraph object at 0x75eae13b15a0>, <networkx.classes.digraph.DiGraph object at 0x75eae13b2b00>, <networkx.classes.digraph.DiGraph object at 0x75eae13b1cf0>, <networkx.classes.digraph.DiGraph object at 0x75eae13b1f60>, <networkx.classes.digraph.DiGraph object at 0x75eae13b32b0>, <networkx.classes.digraph.DiGraph object at 0x75eae13b0c10>, <networkx.classes.digraph.DiGraph object at 0x75eae13b1f90>, <networkx.classes.digraph.DiGraph object at 0x75eae13b12a0>, <networkx.classes.digraph.DiGraph object at 0x75eae13b1ff0>, <networkx.classes.digraph.DiGraph object at 0x75eae13b2a70>, <networkx.classes.digraph.DiGraph object at 0x75eae13b3370>, <networkx.classes.digraph.DiGraph object at 0x75eae13b3310>, <networkx.classes.digraph.DiGraph object at 0x75eae13b1ae0>, <networkx.classes.digraph.DiGraph object at 0x75eae13b2ef0>, <networkx.classes.digraph.DiGraph object at 0x75eae13b2a10>, <networkx.classes.digraph.DiGraph object at 0x75eae13b18d0>, <networkx.classes.digraph.DiGraph object at 0x75eae13b1ea0>, <networkx.classes.digraph.DiGraph object at 0x75eae13b33d0>, <networkx.classes.digraph.DiGraph object at 0x75eae13b3430>, <networkx.classes.digraph.DiGraph object at 0x75eae13b1000>, <networkx.classes.digraph.DiGraph object at 0x75eae13b35b0>, <networkx.classes.digraph.DiGraph object at 0x75eae13b2aa0>, <networkx.classes.digraph.DiGraph object at 0x75eae13b3520>, <networkx.classes.digraph.DiGraph object at 0x75eae13b35e0>, <networkx.classes.digraph.DiGraph object at 0x75eae13b3550>, <networkx.classes.digraph.DiGraph object at 0x75eae13b3580>, <networkx.classes.digraph.DiGraph object at 0x75eae13b3940>, <networkx.classes.digraph.DiGraph object at 0x75eae13b3670>, <networkx.classes.digraph.DiGraph object at 0x75eae13b3760>, <networkx.classes.digraph.DiGraph object at 0x75eae13b2cb0>, <networkx.classes.digraph.DiGraph object at 0x75eae13b38e0>, <networkx.classes.digraph.DiGraph object at 0x75eae13b3460>, <networkx.classes.digraph.DiGraph object at 0x75eae13b3880>, <networkx.classes.digraph.DiGraph object at 0x75eae13b34c0>, <networkx.classes.digraph.DiGraph object at 0x75eae13b3970>, <networkx.classes.digraph.DiGraph object at 0x75eae13b3a30>, <networkx.classes.digraph.DiGraph object at 0x75eae13b3820>, <networkx.classes.digraph.DiGraph object at 0x75eae13b3ac0>, <networkx.classes.digraph.DiGraph object at 0x75eae13b3bb0>, <networkx.classes.digraph.DiGraph object at 0x75eae13b3b80>, <networkx.classes.digraph.DiGraph object at 0x75eae13b2ec0>, <networkx.classes.digraph.DiGraph object at 0x75eae13b3010>, <networkx.classes.digraph.DiGraph object at 0x75eae13b3b20>, <networkx.classes.digraph.DiGraph object at 0x75eae13b3af0>, <networkx.classes.digraph.DiGraph object at 0x75eae13b3070>, <networkx.classes.digraph.DiGraph object at 0x75eae13b2fb0>, <networkx.classes.digraph.DiGraph object at 0x75eae13b2320>, <networkx.classes.digraph.DiGraph object at 0x75eae13b2da0>, <networkx.classes.digraph.DiGraph object at 0x75eae13b1bd0>, <networkx.classes.digraph.DiGraph object at 0x75eae13b1390>, <networkx.classes.digraph.DiGraph object at 0x75eae13b2560>, <networkx.classes.digraph.DiGraph object at 0x75eae1d67a00>, <networkx.classes.digraph.DiGraph object at 0x75eae13b1e70>, <networkx.classes.digraph.DiGraph object at 0x75eae13b2e30>, <networkx.classes.digraph.DiGraph object at 0x75eae13b21d0>, <networkx.classes.digraph.DiGraph object at 0x75eae13b23e0>, <networkx.classes.digraph.DiGraph object at 0x75eae13b2740>, <networkx.classes.digraph.DiGraph object at 0x75eae13b14b0>, <networkx.classes.digraph.DiGraph object at 0x75eae13b2440>, <networkx.classes.digraph.DiGraph object at 0x75eae13b2650>, <networkx.classes.digraph.DiGraph object at 0x75eae13b26e0>, <networkx.classes.digraph.DiGraph object at 0x75eae13b1600>, <networkx.classes.digraph.DiGraph object at 0x75eae13b1540>, <networkx.classes.digraph.DiGraph object at 0x75eae13b0ca0>, <networkx.classes.digraph.DiGraph object at 0x75eae13b0940>, <networkx.classes.digraph.DiGraph object at 0x75eae13b16c0>, <networkx.classes.digraph.DiGraph object at 0x75eae13b3ca0>, <networkx.classes.digraph.DiGraph object at 0x75eae13b3c40>, <networkx.classes.digraph.DiGraph object at 0x75eae13b3c10>, <networkx.classes.digraph.DiGraph object at 0x75eae13b3d00>, <networkx.classes.digraph.DiGraph object at 0x75eae13b3d60>, <networkx.classes.digraph.DiGraph object at 0x75eae13b3dc0>, <networkx.classes.digraph.DiGraph object at 0x75eae13b3e20>, <networkx.classes.digraph.DiGraph object at 0x75eae13b3e80>, <networkx.classes.digraph.DiGraph object at 0x75eae13b3ee0>, <networkx.classes.digraph.DiGraph object at 0x75eae13b3f40>, <networkx.classes.digraph.DiGraph object at 0x75eae13b3fa0>, <networkx.classes.digraph.DiGraph object at 0x75eae13e2b30>, <networkx.classes.digraph.DiGraph object at 0x75eae13e3910>, <networkx.classes.digraph.DiGraph object at 0x75eae13e2590>, <networkx.classes.digraph.DiGraph object at 0x75eae13e25f0>, <networkx.classes.digraph.DiGraph object at 0x75eae13e1bd0>, <networkx.classes.digraph.DiGraph object at 0x75eae13e0070>, <networkx.classes.digraph.DiGraph object at 0x75eae13e00d0>, <networkx.classes.digraph.DiGraph object at 0x75eae13e0130>, <networkx.classes.digraph.DiGraph object at 0x75eae13e0190>, <networkx.classes.digraph.DiGraph object at 0x75eae13e01f0>, <networkx.classes.digraph.DiGraph object at 0x75eae13e0250>, <networkx.classes.digraph.DiGraph object at 0x75eae13e02b0>, <networkx.classes.digraph.DiGraph object at 0x75eae13e0310>, <networkx.classes.digraph.DiGraph object at 0x75eae13e0370>, <networkx.classes.digraph.DiGraph object at 0x75eae13e03d0>, <networkx.classes.digraph.DiGraph object at 0x75eae13e0430>, <networkx.classes.digraph.DiGraph object at 0x75eae13e0490>, <networkx.classes.digraph.DiGraph object at 0x75eae13e04f0>, <networkx.classes.digraph.DiGraph object at 0x75eae13e0550>, <networkx.classes.digraph.DiGraph object at 0x75eae13e05b0>, <networkx.classes.digraph.DiGraph object at 0x75eae13e0610>, <networkx.classes.digraph.DiGraph object at 0x75eae13e0670>, <networkx.classes.digraph.DiGraph object at 0x75eae13e06d0>, <networkx.classes.digraph.DiGraph object at 0x75eae13e0730>, <networkx.classes.digraph.DiGraph object at 0x75eae13e0790>, <networkx.classes.digraph.DiGraph object at 0x75eae13e07f0>, <networkx.classes.digraph.DiGraph object at 0x75eae13e0850>, <networkx.classes.digraph.DiGraph object at 0x75eae13e08b0>, <networkx.classes.digraph.DiGraph object at 0x75eae13e0910>, <networkx.classes.digraph.DiGraph object at 0x75eae13e0970>, <networkx.classes.digraph.DiGraph object at 0x75eae13e09d0>, <networkx.classes.digraph.DiGraph object at 0x75eae13e0a30>, <networkx.classes.digraph.DiGraph object at 0x75eae13e0a90>, <networkx.classes.digraph.DiGraph object at 0x75eae13e0af0>, <networkx.classes.digraph.DiGraph object at 0x75eae13e0b50>, <networkx.classes.digraph.DiGraph object at 0x75eae13e0bb0>, <networkx.classes.digraph.DiGraph object at 0x75eae13e0c10>, <networkx.classes.digraph.DiGraph object at 0x75eae13e0c70>, <networkx.classes.digraph.DiGraph object at 0x75eae13e0cd0>, <networkx.classes.digraph.DiGraph object at 0x75eae13e0d30>, <networkx.classes.digraph.DiGraph object at 0x75eae13e0d90>, <networkx.classes.digraph.DiGraph object at 0x75eae13e0df0>, <networkx.classes.digraph.DiGraph object at 0x75eae13e0e50>, <networkx.classes.digraph.DiGraph object at 0x75eae13e0eb0>, <networkx.classes.digraph.DiGraph object at 0x75eae13e0f10>, <networkx.classes.digraph.DiGraph object at 0x75eae13e0f70>, <networkx.classes.digraph.DiGraph object at 0x75eae13e0fd0>, <networkx.classes.digraph.DiGraph object at 0x75eae13e1030>, <networkx.classes.digraph.DiGraph object at 0x75eae13e1090>, <networkx.classes.digraph.DiGraph object at 0x75eae13e10f0>, <networkx.classes.digraph.DiGraph object at 0x75eae13e1150>, <networkx.classes.digraph.DiGraph object at 0x75eae13e11b0>, <networkx.classes.digraph.DiGraph object at 0x75eae13e1210>, <networkx.classes.digraph.DiGraph object at 0x75eae13e1270>, <networkx.classes.digraph.DiGraph object at 0x75eae13e12d0>, <networkx.classes.digraph.DiGraph object at 0x75eae13e1330>, <networkx.classes.digraph.DiGraph object at 0x75eae13e1390>, <networkx.classes.digraph.DiGraph object at 0x75eae13e13f0>, <networkx.classes.digraph.DiGraph object at 0x75eae13e1450>, <networkx.classes.digraph.DiGraph object at 0x75eae13e14b0>, <networkx.classes.digraph.DiGraph object at 0x75eae13e1510>, <networkx.classes.digraph.DiGraph object at 0x75eae13e1570>, <networkx.classes.digraph.DiGraph object at 0x75eae13e15d0>, <networkx.classes.digraph.DiGraph object at 0x75eae13e1630>, <networkx.classes.digraph.DiGraph object at 0x75eae13e1690>, <networkx.classes.digraph.DiGraph object at 0x75eae13e16f0>, <networkx.classes.digraph.DiGraph object at 0x75eae13e1750>, <networkx.classes.digraph.DiGraph object at 0x75eae13e17b0>, <networkx.classes.digraph.DiGraph object at 0x75eae13e1810>, <networkx.classes.digraph.DiGraph object at 0x75eae13e1870>, <networkx.classes.digraph.DiGraph object at 0x75eae1374be0>, <networkx.classes.digraph.DiGraph object at 0x75eae1374700>, <networkx.classes.digraph.DiGraph object at 0x75eae13751b0>, <networkx.classes.digraph.DiGraph object at 0x75eae1374100>, <networkx.classes.digraph.DiGraph object at 0x75eae1374d60>, <networkx.classes.digraph.DiGraph object at 0x75eae13743d0>, <networkx.classes.digraph.DiGraph object at 0x75eae13755a0>, <networkx.classes.digraph.DiGraph object at 0x75eae1375720>, <networkx.classes.digraph.DiGraph object at 0x75eae1375780>, <networkx.classes.digraph.DiGraph object at 0x75eae13757e0>, <networkx.classes.digraph.DiGraph object at 0x75eae1375840>, <networkx.classes.digraph.DiGraph object at 0x75eae13758a0>, <networkx.classes.digraph.DiGraph object at 0x75eae1375900>, <networkx.classes.digraph.DiGraph object at 0x75eae1375960>, <networkx.classes.digraph.DiGraph object at 0x75eae13759c0>, <networkx.classes.digraph.DiGraph object at 0x75eae1375a20>, <networkx.classes.digraph.DiGraph object at 0x75eae1375a80>, <networkx.classes.digraph.DiGraph object at 0x75eae1375ae0>, <networkx.classes.digraph.DiGraph object at 0x75eae1375b40>, <networkx.classes.digraph.DiGraph object at 0x75eae1375ba0>, <networkx.classes.digraph.DiGraph object at 0x75eae1375c00>, <networkx.classes.digraph.DiGraph object at 0x75eae1375c60>, <networkx.classes.digraph.DiGraph object at 0x75eae1375cc0>, <networkx.classes.digraph.DiGraph object at 0x75eae1375d20>, <networkx.classes.digraph.DiGraph object at 0x75eae1375d80>, <networkx.classes.digraph.DiGraph object at 0x75eae1375de0>, <networkx.classes.digraph.DiGraph object at 0x75eae1375e40>, <networkx.classes.digraph.DiGraph object at 0x75eae1375ea0>, <networkx.classes.digraph.DiGraph object at 0x75eae1375f00>, <networkx.classes.digraph.DiGraph object at 0x75eae1375f60>, <networkx.classes.digraph.DiGraph object at 0x75eae1375fc0>, <networkx.classes.digraph.DiGraph object at 0x75eae1376020>, <networkx.classes.digraph.DiGraph object at 0x75eae1376080>, <networkx.classes.digraph.DiGraph object at 0x75eae13760e0>, <networkx.classes.digraph.DiGraph object at 0x75eae1376140>, <networkx.classes.digraph.DiGraph object at 0x75eae13761a0>, <networkx.classes.digraph.DiGraph object at 0x75eae1376200>, <networkx.classes.digraph.DiGraph object at 0x75eae1376260>, <networkx.classes.digraph.DiGraph object at 0x75eae13762c0>, <networkx.classes.digraph.DiGraph object at 0x75eae1376320>, <networkx.classes.digraph.DiGraph object at 0x75eae1376380>, <networkx.classes.digraph.DiGraph object at 0x75eae13763e0>, <networkx.classes.digraph.DiGraph object at 0x75eae1376440>, <networkx.classes.digraph.DiGraph object at 0x75eae13764a0>, <networkx.classes.digraph.DiGraph object at 0x75eae1376500>, <networkx.classes.digraph.DiGraph object at 0x75eae1376560>, <networkx.classes.digraph.DiGraph object at 0x75eae13765c0>, <networkx.classes.digraph.DiGraph object at 0x75eae1376620>, <networkx.classes.digraph.DiGraph object at 0x75eae1376680>, <networkx.classes.digraph.DiGraph object at 0x75eae13766e0>, <networkx.classes.digraph.DiGraph object at 0x75eae1376740>, <networkx.classes.digraph.DiGraph object at 0x75eae13767a0>, <networkx.classes.digraph.DiGraph object at 0x75eae1376800>, <networkx.classes.digraph.DiGraph object at 0x75eae1376860>, <networkx.classes.digraph.DiGraph object at 0x75eae13768c0>, <networkx.classes.digraph.DiGraph object at 0x75eae1376920>, <networkx.classes.digraph.DiGraph object at 0x75eae1376980>, <networkx.classes.digraph.DiGraph object at 0x75eae13769e0>, <networkx.classes.digraph.DiGraph object at 0x75eae1376a40>, <networkx.classes.digraph.DiGraph object at 0x75eae1376aa0>, <networkx.classes.digraph.DiGraph object at 0x75eae1376b00>, <networkx.classes.digraph.DiGraph object at 0x75eae1376b60>, <networkx.classes.digraph.DiGraph object at 0x75eae1376bc0>, <networkx.classes.digraph.DiGraph object at 0x75eae1376c20>, <networkx.classes.digraph.DiGraph object at 0x75eae1376c80>, <networkx.classes.digraph.DiGraph object at 0x75eae1376ce0>, <networkx.classes.digraph.DiGraph object at 0x75eae1376d40>, <networkx.classes.digraph.DiGraph object at 0x75eae1376da0>, <networkx.classes.digraph.DiGraph object at 0x75eae1376e00>, <networkx.classes.digraph.DiGraph object at 0x75eae1376e60>, <networkx.classes.digraph.DiGraph object at 0x75eae1376ec0>, <networkx.classes.digraph.DiGraph object at 0x75eae1376f20>, <networkx.classes.digraph.DiGraph object at 0x75eae1376f80>, <networkx.classes.digraph.DiGraph object at 0x75eae1376fe0>, <networkx.classes.digraph.DiGraph object at 0x75eae1377040>, <networkx.classes.digraph.DiGraph object at 0x75eae13770a0>, <networkx.classes.digraph.DiGraph object at 0x75eae1377100>, <networkx.classes.digraph.DiGraph object at 0x75eae1377160>, <networkx.classes.digraph.DiGraph object at 0x75eae13771c0>, <networkx.classes.digraph.DiGraph object at 0x75eae1377220>, <networkx.classes.digraph.DiGraph object at 0x75eae1377280>, <networkx.classes.digraph.DiGraph object at 0x75eae13772e0>, <networkx.classes.digraph.DiGraph object at 0x75eae1377340>, <networkx.classes.digraph.DiGraph object at 0x75eae13773a0>, <networkx.classes.digraph.DiGraph object at 0x75eae1377400>, <networkx.classes.digraph.DiGraph object at 0x75eae1377460>, <networkx.classes.digraph.DiGraph object at 0x75eae13774c0>, <networkx.classes.digraph.DiGraph object at 0x75eae1377520>, <networkx.classes.digraph.DiGraph object at 0x75eae1377580>, <networkx.classes.digraph.DiGraph object at 0x75eae13775e0>, <networkx.classes.digraph.DiGraph object at 0x75eae1377640>, <networkx.classes.digraph.DiGraph object at 0x75eae13776a0>, <networkx.classes.digraph.DiGraph object at 0x75eae1377700>, <networkx.classes.digraph.DiGraph object at 0x75eae1377760>, <networkx.classes.digraph.DiGraph object at 0x75eae13777c0>, <networkx.classes.digraph.DiGraph object at 0x75eae1377820>], tensor([0, 0, 1, 0, 0, 0, 1, 1, 0, 1, 0, 0, 0, 0, 0, 1, 0, 1, 0, 1, 1, 1, 1, 1,\n",
      "        0, 1, 0, 1, 1, 0, 0, 1, 0, 0, 0, 1, 1, 1, 0, 1, 0, 0, 0, 1, 0, 1, 1, 0,\n",
      "        1, 0, 0, 1, 0, 1, 0, 0, 0, 1, 1, 0, 1, 0, 0, 0, 0, 1, 0, 0, 0, 1, 0, 0,\n",
      "        1, 0, 0, 1, 0, 0, 0, 1, 1, 1, 1, 1, 1, 0, 1, 1, 1, 1, 0, 1, 0, 1, 1, 1,\n",
      "        0, 1, 1, 1, 1, 1, 0, 1, 0, 1, 0, 0, 1, 1, 0, 1, 1, 1, 0, 0, 0, 0, 1, 0,\n",
      "        1, 0, 0, 0, 1, 0, 1, 1, 1, 0, 1, 0, 1, 0, 0, 1, 1, 1, 0, 0, 1, 1, 1, 0,\n",
      "        0, 1, 0, 1, 0, 1, 1, 0, 1, 1, 0, 0, 1, 1, 1, 0, 1, 0, 0, 1, 1, 0, 1, 1,\n",
      "        1, 0, 1, 1, 1, 0, 1, 0, 1, 1, 0, 1, 0, 0, 1, 0, 1, 1, 0, 0, 1, 0, 0, 1,\n",
      "        1, 0, 0, 0, 1, 1, 0, 0, 0, 1, 0, 0, 0, 1, 1, 0, 1, 0, 0, 0, 1, 0, 0, 1,\n",
      "        1, 1, 0, 1, 1, 0, 0, 1, 1, 1, 0, 0, 0, 1, 1, 1, 1, 0, 1, 0, 0, 0, 0, 1,\n",
      "        1, 0, 0, 1, 0, 1, 1, 0, 0, 0, 0, 0, 0, 0, 0, 1]))]\n"
     ]
    }
   ],
   "source": [
    "with open(\"/app/src/Clean_Code/output/text_trees/stanfordnlp/sst2/train/constituency/0.pkl\", \"rb\") as f:\n",
    "    data = pkl.load(f)\n",
    "print(data)"
   ]
  },
  {
   "cell_type": "code",
   "execution_count": 6,
   "id": "6c7b5644",
   "metadata": {},
   "outputs": [
    {
     "data": {
      "text/plain": [
       "256"
      ]
     },
     "execution_count": 6,
     "metadata": {},
     "output_type": "execute_result"
    }
   ],
   "source": [
    "len(data[0][1])"
   ]
  },
  {
   "cell_type": "code",
   "execution_count": 7,
   "id": "a67ccba5",
   "metadata": {},
   "outputs": [
    {
     "data": {
      "text/plain": [
       "NodeDataView({'ROOT': {'id': 0, 'label': '0: ROOT'}, 'S0': {'id': 1, 'label': '1: «SENTENCE»'}, 'VP00': {'id': 3, 'label': '3: «VERB PHRASE»'}, 'VBZ000': {'id': 5, 'label': '5: «VERB, 3rd person singular present»'}, 7: {'id': 7, 'label': '7: contains'}, 'NP001': {'id': 8, 'label': '8: «NOUN PHRASE»'}, 'NP0010': {'id': 10, 'label': '10: «NOUN PHRASE»'}, 'DT00100': {'id': 12, 'label': '12: «DETERMINER»'}, 14: {'id': 14, 'label': '14: no'}, 'NN00101': {'id': 15, 'label': '15: «NOUN, SINGULAR OR MASS»'}, 17: {'id': 17, 'label': '17: wit'}, ',0011': {'id': 18, 'label': '18: ,'}, 20: {'id': 20, 'label': '20: ,'}, 'NP0012': {'id': 21, 'label': '21: «NOUN PHRASE»'}, 'RB00120': {'id': 23, 'label': '23: «ADVERB»'}, 25: {'id': 25, 'label': '25: only'}, 'VBN00121': {'id': 26, 'label': '26: «VERB, past participle»'}, 28: {'id': 28, 'label': '28: labored'}, 'NNS00122': {'id': 29, 'label': '29: «NOUN, PLURAL»'}, 31: {'id': 31, 'label': '31: gags'}})"
      ]
     },
     "execution_count": 7,
     "metadata": {},
     "output_type": "execute_result"
    }
   ],
   "source": [
    "data[0][0][1].nodes(data=True)"
   ]
  },
  {
   "cell_type": "code",
   "execution_count": 8,
   "id": "eb1343fd",
   "metadata": {},
   "outputs": [
    {
     "data": {
      "text/plain": [
       "OutEdgeDataView([('ROOT', 'S0', {'label': 'constituency relation'}), ('S0', 'VP00', {'label': 'constituency relation'}), ('VP00', 'VB000', {'label': 'constituency relation'}), ('VP00', 'NP001', {'label': 'constituency relation'}), ('VP00', 'PP002', {'label': 'constituency relation'}), ('VB000', 7, {'label': 'constituency relation'}), ('NP001', 'JJ0010', {'label': 'constituency relation'}), ('NP001', 'NNS0011', {'label': 'constituency relation'}), ('JJ0010', 12, {'label': 'constituency relation'}), ('NNS0011', 15, {'label': 'constituency relation'}), ('PP002', 'IN0020', {'label': 'constituency relation'}), ('PP002', 'NP0021', {'label': 'constituency relation'}), ('IN0020', 20, {'label': 'constituency relation'}), ('NP0021', 'DT00210', {'label': 'constituency relation'}), ('NP0021', 'JJ00211', {'label': 'constituency relation'}), ('NP0021', 'NNS00212', {'label': 'constituency relation'}), ('DT00210', 25, {'label': 'constituency relation'}), ('JJ00211', 28, {'label': 'constituency relation'}), ('NNS00212', 31, {'label': 'constituency relation'})])"
      ]
     },
     "execution_count": 8,
     "metadata": {},
     "output_type": "execute_result"
    }
   ],
   "source": [
    "data[0][0][0].edges(data=True)"
   ]
  },
  {
   "cell_type": "code",
   "execution_count": 14,
   "id": "a44f479b",
   "metadata": {},
   "outputs": [
    {
     "name": "stdout",
     "output_type": "stream",
     "text": [
      "[]\n"
     ]
    }
   ],
   "source": [
    "# give me the isolates nodes in data[0][0][0] for a digraph\n",
    "isolates = list(nx.isolates(data[0][0][0]))\n",
    "print(isolates)\n"
   ]
  }
 ],
 "metadata": {
  "kernelspec": {
   "display_name": "Python 3",
   "language": "python",
   "name": "python3"
  },
  "language_info": {
   "codemirror_mode": {
    "name": "ipython",
    "version": 3
   },
   "file_extension": ".py",
   "mimetype": "text/x-python",
   "name": "python",
   "nbconvert_exporter": "python",
   "pygments_lexer": "ipython3",
   "version": "3.10.12"
  }
 },
 "nbformat": 4,
 "nbformat_minor": 5
}
