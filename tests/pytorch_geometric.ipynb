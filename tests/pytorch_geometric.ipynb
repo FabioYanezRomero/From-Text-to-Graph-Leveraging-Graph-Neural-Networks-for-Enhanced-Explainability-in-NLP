{
 "cells": [
  {
   "cell_type": "code",
   "execution_count": 1,
   "id": "2afca0f4",
   "metadata": {},
   "outputs": [],
   "source": [
    "import pickle as pkl\n",
    "import networkx as nx\n",
    "import torch\n",
    "from torch_geometric.data import Data\n",
    "from torch_geometric.loader import DataLoader\n",
    "\n"
   ]
  },
  {
   "cell_type": "code",
   "execution_count": 7,
   "id": "eebab525",
   "metadata": {},
   "outputs": [
    {
     "name": "stdout",
     "output_type": "stream",
     "text": [
      "[Data(x=[0, 2], edge_index=[2, 1], y=[1]), Data(x=[0, 2], edge_index=[2, 1], y=[1]), Data(x=[0, 2], edge_index=[2, 1], y=[1]), Data(x=[0, 2], edge_index=[2, 1], y=[1]), Data(x=[0, 2], edge_index=[2, 1], y=[1]), Data(x=[0, 2], edge_index=[2, 1], y=[1]), Data(x=[0, 2], edge_index=[2, 1], y=[1]), Data(x=[0, 2], edge_index=[2, 1], y=[1]), Data(x=[0, 2], edge_index=[2, 1], y=[1]), Data(x=[0, 2], edge_index=[2, 1], y=[1])]\n"
     ]
    }
   ],
   "source": [
    "with open(\"/app/src/Clean_Code/output/embeddings/graphs/stanfordnlp/sst2/train_llm_labels/graphs_constituency_batch_0000.pkl\", \"rb\") as f:\n",
    "    data = pkl.load(f)\n",
    "    print(data)"
   ]
  }
 ],
 "metadata": {
  "kernelspec": {
   "display_name": "Python 3",
   "language": "python",
   "name": "python3"
  },
  "language_info": {
   "codemirror_mode": {
    "name": "ipython",
    "version": 3
   },
   "file_extension": ".py",
   "mimetype": "text/x-python",
   "name": "python",
   "nbconvert_exporter": "python",
   "pygments_lexer": "ipython3",
   "version": "3.10.12"
  }
 },
 "nbformat": 4,
 "nbformat_minor": 5
}
