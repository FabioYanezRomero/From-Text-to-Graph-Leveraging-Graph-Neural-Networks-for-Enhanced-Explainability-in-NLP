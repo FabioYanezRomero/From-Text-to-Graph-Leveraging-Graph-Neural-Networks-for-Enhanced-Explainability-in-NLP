{
 "cells": [
  {
   "cell_type": "code",
   "execution_count": 1,
   "id": "e192d605",
   "metadata": {},
   "outputs": [],
   "source": [
    "import os\n",
    "import argparse\n",
    "import json\n",
    "import torch\n",
    "from tqdm import tqdm\n",
    "from datasets import load_dataset\n",
    "from torch.utils.data import DataLoader"
   ]
  },
  {
   "cell_type": "code",
   "execution_count": 2,
   "id": "80d3689d",
   "metadata": {},
   "outputs": [],
   "source": [
    "from src.Clean_Code.Tree_Generation.config import (\n",
    "    DEFAULT_MODELS, DEFAULT_DATASETS, DEFAULT_SUBSETS, DEFAULT_BATCH_SIZE,\n",
    "    DEFAULT_DEVICE, DEFAULT_OUTPUT_DIR, DEFAULT_DATA_DIR\n",
    ")\n",
    "\n",
    "from src.Clean_Code.Tree_Generation.constituency import ConstituencyTreeGenerator"
   ]
  },
  {
   "cell_type": "code",
   "execution_count": null,
   "id": "f5e7ef0c",
   "metadata": {},
   "outputs": [],
   "source": []
  }
 ],
 "metadata": {
  "kernelspec": {
   "display_name": "Python 3",
   "language": "python",
   "name": "python3"
  },
  "language_info": {
   "codemirror_mode": {
    "name": "ipython",
    "version": 3
   },
   "file_extension": ".py",
   "mimetype": "text/x-python",
   "name": "python",
   "nbconvert_exporter": "python",
   "pygments_lexer": "ipython3",
   "version": "3.10.12"
  }
 },
 "nbformat": 4,
 "nbformat_minor": 5
}
