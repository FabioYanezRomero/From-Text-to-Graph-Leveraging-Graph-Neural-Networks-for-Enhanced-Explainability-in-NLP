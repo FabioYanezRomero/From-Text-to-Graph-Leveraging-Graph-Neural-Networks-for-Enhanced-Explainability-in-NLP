{
 "cells": [
  {
   "cell_type": "code",
   "execution_count": 3,
   "id": "3ccfe8be",
   "metadata": {},
   "outputs": [],
   "source": [
    "import pickle as pkl\n",
    "import networkx as nx\n",
    "import torch\n",
    "from torch_geometric.data import Data\n",
    "\n"
   ]
  },
  {
   "cell_type": "code",
   "execution_count": 5,
   "id": "58b754e0",
   "metadata": {},
   "outputs": [],
   "source": [
    "with open(\"/app/src/Clean_Code/output/pyg_graphs/stanfordnlp/sst2/syntactic/train/syntactic_train_batch_0000_graphs_with_embeddings.pt\", \"rb\") as f:\n",
    "    obj = torch.load(f, weights_only=False)"
   ]
  },
  {
   "cell_type": "code",
   "execution_count": 20,
   "id": "d7437820",
   "metadata": {},
   "outputs": [
    {
     "data": {
      "text/plain": [
       "tensor([0])"
      ]
     },
     "execution_count": 20,
     "metadata": {},
     "output_type": "execute_result"
    }
   ],
   "source": [
    "obj[3].y"
   ]
  },
  {
   "cell_type": "code",
   "execution_count": null,
   "id": "2025272a",
   "metadata": {},
   "outputs": [],
   "source": []
  }
 ],
 "metadata": {
  "kernelspec": {
   "display_name": "Python 3",
   "language": "python",
   "name": "python3"
  },
  "language_info": {
   "codemirror_mode": {
    "name": "ipython",
    "version": 3
   },
   "file_extension": ".py",
   "mimetype": "text/x-python",
   "name": "python",
   "nbconvert_exporter": "python",
   "pygments_lexer": "ipython3",
   "version": "3.10.12"
  }
 },
 "nbformat": 4,
 "nbformat_minor": 5
}
