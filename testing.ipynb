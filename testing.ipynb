{
 "cells": [
  {
   "cell_type": "code",
   "execution_count": 1,
   "id": "3ccfe8be",
   "metadata": {},
   "outputs": [],
   "source": [
    "import pickle as pkl\n",
    "import networkx as nx\n"
   ]
  },
  {
   "cell_type": "code",
   "execution_count": 2,
   "id": "58b754e0",
   "metadata": {},
   "outputs": [],
   "source": [
    "with open(\"/app/src/Clean_Code/output/text_trees/stanfordnlp/sst2/validation/syntactic/0.pkl\", \"rb\") as f:\n",
    "    obj = pkl.load(f)"
   ]
  },
  {
   "cell_type": "code",
   "execution_count": 9,
   "id": "d7437820",
   "metadata": {},
   "outputs": [
    {
     "data": {
      "text/plain": [
       "NodeDataView({1: {'text': 'looking', 'pos': 'VERB'}, 15: {'text': 'gives', 'pos': 'VERB'}, 2: {'text': 'aristocratic', 'pos': 'ADJ'}, 3: {'text': ',', 'pos': 'PUNCT'}, 4: {'text': 'luminous', 'pos': 'ADJ'}, 5: {'text': 'yet', 'pos': 'CCONJ'}, 6: {'text': 'careworn', 'pos': 'NOUN'}, 7: {'text': 'in', 'pos': 'ADP'}, 12: {'text': 'costumes', 'pos': 'NOUN'}, 8: {'text': 'jane', 'pos': 'PROPN'}, 9: {'text': 'hamilton', 'pos': 'PROPN'}, 10: {'text': \"'s\", 'pos': 'PART'}, 11: {'text': 'exemplary', 'pos': 'ADJ'}, 13: {'text': ',', 'pos': 'PUNCT'}, 14: {'text': 'rampling', 'pos': 'NOUN'}, 16: {'text': 'a', 'pos': 'DET'}, 17: {'text': 'performance', 'pos': 'NOUN'}, 18: {'text': 'that', 'pos': 'PRON'}, 22: {'text': 'improved', 'pos': 'VERB'}, 19: {'text': 'could', 'pos': 'AUX'}, 20: {'text': 'not', 'pos': 'PART'}, 21: {'text': 'be', 'pos': 'AUX'}, 23: {'text': 'upon', 'pos': 'ADP'}, 24: {'text': '.', 'pos': 'PUNCT'}, 25: {'text': \"'\", 'pos': 'PUNCT'}})"
      ]
     },
     "execution_count": 9,
     "metadata": {},
     "output_type": "execute_result"
    }
   ],
   "source": [
    "obj[0][0][-1].nodes(data=True)"
   ]
  }
 ],
 "metadata": {
  "kernelspec": {
   "display_name": "Python 3",
   "language": "python",
   "name": "python3"
  },
  "language_info": {
   "codemirror_mode": {
    "name": "ipython",
    "version": 3
   },
   "file_extension": ".py",
   "mimetype": "text/x-python",
   "name": "python",
   "nbconvert_exporter": "python",
   "pygments_lexer": "ipython3",
   "version": "3.10.12"
  }
 },
 "nbformat": 4,
 "nbformat_minor": 5
}
