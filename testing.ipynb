{
 "cells": [
  {
   "cell_type": "code",
   "execution_count": 1,
   "id": "3ccfe8be",
   "metadata": {},
   "outputs": [],
   "source": [
    "import pickle as pkl\n",
    "import networkx as nx\n",
    "import torch\n",
    "from torch_geometric.data import Data\n",
    "\n",
    "import sys\n",
    "from importlib import import_module\n"
   ]
  },
  {
   "cell_type": "code",
   "execution_count": 2,
   "id": "10a61fbd",
   "metadata": {},
   "outputs": [],
   "source": [
    "module = import_module(\"src.explain.gnn.subgraphx.main\")\n",
    "sys.modules[\"__main__\"].SubgraphXResult = module.SubgraphXResult"
   ]
  },
  {
   "cell_type": "code",
   "execution_count": 3,
   "id": "7f10d3bc",
   "metadata": {},
   "outputs": [],
   "source": [
    "module = import_module(\"src.explain.gnn.graphsvx.main\")\n",
    "sys.modules[\"__main__\"].GraphSVXResult = module.GraphSVXResult"
   ]
  },
  {
   "cell_type": "code",
   "execution_count": 3,
   "id": "58b754e0",
   "metadata": {},
   "outputs": [],
   "source": [
    "with open (\"/app/outputs/gnn_models/SetFit/ag_news/constituency/explanations/subgraphx/SetFit_ag_news_constituency_test_shard1of3/results_split_pickle/graph_00000.pkl\", \"rb\") as f:\n",
    "    obj = pkl.load(f)\n"
   ]
  },
  {
   "cell_type": "code",
   "execution_count": 6,
   "id": "d7437820",
   "metadata": {},
   "outputs": [
    {
     "data": {
      "text/plain": [
       "dict_keys(['graph_index', 'label', 'explanation', 'related_prediction', 'num_nodes', 'num_edges', 'hyperparams', 'prediction', 'is_correct', 'source', 'prediction_class', 'prediction_confidence', 'global_graph_index'])"
      ]
     },
     "execution_count": 6,
     "metadata": {},
     "output_type": "execute_result"
    }
   ],
   "source": [
    "obj.keys()"
   ]
  },
  {
   "cell_type": "code",
   "execution_count": 5,
   "id": "338da7e6",
   "metadata": {},
   "outputs": [],
   "source": [
    "# Get the NetworkX graph\n",
    "G = obj[0].explanation[0]['ori_graph']"
   ]
  },
  {
   "cell_type": "code",
   "execution_count": 6,
   "id": "c86a62d5",
   "metadata": {},
   "outputs": [],
   "source": [
    "import numpy as np\n",
    "from scipy.stats import skew\n"
   ]
  },
  {
   "cell_type": "code",
   "execution_count": 7,
   "id": "2025272a",
   "metadata": {},
   "outputs": [
    {
     "name": "stdout",
     "output_type": "stream",
     "text": [
      "Number of nodes: 25\n",
      "Number of edges: 24\n",
      "Average degree: 1.92\n",
      "Maximum degree: 4\n",
      "Degree variance: 0.9536\n",
      "Degree skewness: 0.9335944973431753\n",
      "Number of connected components: 1\n",
      "Betweenness centrality (per node): {0: 0.0, 1: 0.3695652173913044, 2: 0.15942028985507248, 3: 0.08333333333333333, 4: 0.0, 5: 0.5072463768115942, 6: 0.08333333333333333, 7: 0.0, 8: 0.6630434782608696, 9: 0.08333333333333333, 10: 0.0, 11: 0.6195652173913043, 12: 0.15942028985507248, 13: 0.08333333333333333, 14: 0.0, 15: 0.08333333333333333, 16: 0.0, 17: 0.30434782608695654, 18: 0.08333333333333333, 19: 0.0, 20: 0.08333333333333333, 21: 0.0, 22: 0.08333333333333333, 23: 0.0, 24: 0.0}\n",
      "Average betweenness centrality: 0.13797101449275362\n",
      "Max betweenness centrality: 0.6630434782608696\n",
      "Min betweenness centrality: 0.0\n",
      "Closeness centrality (per node): {0: 0.22641509433962265, 1: 0.2891566265060241, 2: 0.23529411764705882, 3: 0.1951219512195122, 4: 0.1643835616438356, 5: 0.34285714285714286, 6: 0.26373626373626374, 7: 0.21052631578947367, 8: 0.38095238095238093, 9: 0.2857142857142857, 10: 0.22429906542056074, 11: 0.36363636363636365, 12: 0.2823529411764706, 13: 0.22641509433962265, 14: 0.18604651162790697, 15: 0.27586206896551724, 16: 0.21818181818181817, 17: 0.2962962962962963, 18: 0.23529411764705882, 19: 0.192, 20: 0.23529411764705882, 21: 0.192, 22: 0.2857142857142857, 23: 0.22429906542056074, 24: 0.22641509433962265}\n",
      "Average closeness centrality: 0.2503305832327497\n",
      "Min closeness centrality: 0.1643835616438356\n",
      "Max closeness centrality: 0.38095238095238093\n",
      "Eigenvector centrality (per node): {0: 0.09996082931203243, 1: 0.2581016245677321, 2: 0.12138071316987104, 3: 0.05530603553816254, 4: 0.021419883857838603, 5: 0.3451250277753758, 6: 0.15724951131533862, 7: 0.06090112742794453, 8: 0.4757808231210888, 9: 0.2167775737788816, 10: 0.08395483856718583, 11: 0.4498209729148418, 12: 0.21153378630978148, 13: 0.0963788162424604, 14: 0.03732572060218544, 15: 0.20494763957148476, 16: 0.07937261896614403, 17: 0.26921500219501315, 18: 0.12265911016029059, 19: 0.04750346824370855, 20: 0.12265911016029059, 21: 0.04750346824370855, 22: 0.2167775737788816, 23: 0.08395483856718583, 24: 0.09996082931203243}\n",
      "Average eigenvector centrality: 0.15942283774797844\n",
      "Min eigenvector centrality: 0.021419883857838603\n",
      "Max eigenvector centrality: 0.4757808231210888\n"
     ]
    }
   ],
   "source": [
    "# 1. Number of nodes\n",
    "from typing import Any\n",
    "\n",
    "\n",
    "num_nodes = G.number_of_nodes()\n",
    "print(f\"Number of nodes: {num_nodes}\")\n",
    "\n",
    "# 2. Number of edges\n",
    "num_edges = G.number_of_edges()\n",
    "print(f\"Number of edges: {num_edges}\")\n",
    "\n",
    "# 3. Degree metrics\n",
    "degrees = [d for n, d in G.degree()]\n",
    "\n",
    "# Average degree\n",
    "avg_degree = np.mean(degrees)\n",
    "print(f\"Average degree: {avg_degree}\")\n",
    "\n",
    "# Maximum degree\n",
    "max_degree = max(degrees)\n",
    "print(f\"Maximum degree: {max_degree}\")\n",
    "\n",
    "# Degree variance\n",
    "degree_variance = np.var(degrees)\n",
    "print(f\"Degree variance: {degree_variance}\")\n",
    "\n",
    "# Degree skewness\n",
    "degree_skewness = skew(degrees)\n",
    "print(f\"Degree skewness: {degree_skewness}\")\n",
    "\n",
    "# 4. Number of Strongly Connected Components (NSCC)\n",
    "# For undirected graphs, use connected components\n",
    "if G.is_directed():\n",
    "    nscc = nx.number_strongly_connected_components(G)\n",
    "    print(f\"Number of strongly connected components: {nscc}\")\n",
    "else:\n",
    "    ncc = nx.number_connected_components(G)\n",
    "    print(f\"Number of connected components: {ncc}\")\n",
    "\n",
    "# 5. Betweenness centrality\n",
    "betweenness = nx.betweenness_centrality(G)\n",
    "print(f\"Betweenness centrality (per node): {betweenness}\")\n",
    "print(f\"Average betweenness centrality: {np.mean(list[float](betweenness.values()))}\")\n",
    "print(f\"Max betweenness centrality: {max(betweenness.values())}\")\n",
    "print(f\"Min betweenness centrality: {min(betweenness.values())}\")\n",
    "\n",
    "\n",
    "# 6. Closeness centrality\n",
    "closeness = nx.closeness_centrality(G)\n",
    "print(f\"Closeness centrality (per node): {closeness}\")\n",
    "print(f\"Average closeness centrality: {np.mean(list[float](closeness.values()))}\")\n",
    "print(f\"Min closeness centrality: {min(closeness.values())}\")\n",
    "print(f\"Max closeness centrality: {max(closeness.values())}\")\n",
    "\n",
    "# 7. Eigenvector centrality\n",
    "try:\n",
    "    eigenvector = nx.eigenvector_centrality(G, max_iter=1000)\n",
    "    print(f\"Eigenvector centrality (per node): {eigenvector}\")\n",
    "    print(f\"Average eigenvector centrality: {np.mean(list[Any](eigenvector.values()))}\")\n",
    "    print(f\"Min eigenvector centrality: {min(eigenvector.values())}\")\n",
    "    print(f\"Max eigenvector centrality: {max(eigenvector.values())}\")\n",
    "except:\n",
    "    print(\"Eigenvector centrality could not be computed (graph may be disconnected)\")"
   ]
  }
 ],
 "metadata": {
  "kernelspec": {
   "display_name": "Python 3",
   "language": "python",
   "name": "python3"
  },
  "language_info": {
   "codemirror_mode": {
    "name": "ipython",
    "version": 3
   },
   "file_extension": ".py",
   "mimetype": "text/x-python",
   "name": "python",
   "nbconvert_exporter": "python",
   "pygments_lexer": "ipython3",
   "version": "3.10.12"
  }
 },
 "nbformat": 4,
 "nbformat_minor": 5
}
